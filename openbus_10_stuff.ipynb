{
 "cells": [
  {
   "cell_type": "markdown",
   "metadata": {},
   "source": [
    "I want to analyze changes over time in the MOT GTFS feed. \n",
    "\n",
    "Agenda:\n",
    "1. [Get data](#Get-the-data)\n",
    "\n",
    "3. [Tidy](#Tidy-it-up)\n"
   ]
  },
  {
   "cell_type": "code",
   "execution_count": 4,
   "metadata": {},
   "outputs": [],
   "source": [
    "import pandas as pd\n",
    "import numpy as np\n",
    "import matplotlib.pyplot as plt\n",
    "import seaborn as sns\n",
    "import partridge as ptg\n",
    "from ftplib import FTP\n",
    "import datetime\n",
    "import re\n",
    "import zipfile\n",
    "import os\n",
    "\n",
    "%matplotlib inline\n",
    "plt.rcParams['figure.figsize'] = (10, 5) # set default size of plots\n",
    "\n",
    "sns.set_style(\"white\")\n",
    "sns.set_context(\"talk\")\n",
    "sns.set_palette('Set2', 10)"
   ]
  },
  {
   "cell_type": "markdown",
   "metadata": {},
   "source": [
    "## Get the data\n",
    "There are two options - TransitFeeds and the workshop's S3 bucket."
   ]
  },
  {
   "cell_type": "code",
   "execution_count": 5,
   "metadata": {},
   "outputs": [],
   "source": [
    "#!aws s3 cp s3://s3.obus.hasadna.org.il/2018-04-25.zip data/gtfs_feeds/2018-04-25.zip"
   ]
  },
  {
   "cell_type": "markdown",
   "metadata": {},
   "source": [
    "## Tidy it up\n",
    "Again I'm using [partridge](https://github.com/remix/partridge/tree/master/partridge) for filtering on dates, and then some tidying up and transformations."
   ]
  },
  {
   "cell_type": "code",
   "execution_count": 6,
   "metadata": {},
   "outputs": [],
   "source": [
    "from gtfs_utils import *\n",
    "\n",
    "local_tariff_path = 'data/sample/180515_tariff.zip' "
   ]
  },
  {
   "cell_type": "code",
   "execution_count": 7,
   "metadata": {},
   "outputs": [],
   "source": [
    "conn = ftp_connect()\n",
    "get_ftp_file(conn, file_name = TARIFF_FILE_NAME, local_zip_path = local_tariff_path )"
   ]
  },
  {
   "cell_type": "code",
   "execution_count": 8,
   "metadata": {},
   "outputs": [],
   "source": []
  },
  {
   "cell_type": "code",
   "execution_count": 70,
   "metadata": {},
   "outputs": [],
   "source": [
    "\n",
    "\n",
    "def to_timedelta(df):\n",
    "    '''\n",
    "    Turn time columns into timedelta dtype\n",
    "    '''\n",
    "    cols = ['arrival_time', 'departure_time']\n",
    "    numeric = df[cols].apply(pd.to_timedelta, unit='s')\n",
    "    df = df.copy()\n",
    "    df[cols] = numeric\n",
    "    return df"
   ]
  },
  {
   "cell_type": "code",
   "execution_count": 71,
   "metadata": {},
   "outputs": [
    {
     "name": "stdout",
     "output_type": "stream",
     "text": [
      "Wall time: 2min 16s\n"
     ]
    }
   ],
   "source": [
    "%time f2 = new_get_tidy_feed_df(feed, [zones])"
   ]
  },
  {
   "cell_type": "code",
   "execution_count": 72,
   "metadata": {},
   "outputs": [
    {
     "data": {
      "text/html": [
       "<div>\n",
       "<style scoped>\n",
       "    .dataframe tbody tr th:only-of-type {\n",
       "        vertical-align: middle;\n",
       "    }\n",
       "\n",
       "    .dataframe tbody tr th {\n",
       "        vertical-align: top;\n",
       "    }\n",
       "\n",
       "    .dataframe thead th {\n",
       "        text-align: right;\n",
       "    }\n",
       "</style>\n",
       "<table border=\"1\" class=\"dataframe\">\n",
       "  <thead>\n",
       "    <tr style=\"text-align: right;\">\n",
       "      <th></th>\n",
       "      <th>trip_id</th>\n",
       "      <th>departure_time</th>\n",
       "      <th>arrival_time</th>\n",
       "      <th>stop_id</th>\n",
       "      <th>stop_sequence</th>\n",
       "      <th>stop_name</th>\n",
       "      <th>stop_lat</th>\n",
       "      <th>stop_lon</th>\n",
       "      <th>stop_code</th>\n",
       "      <th>route_id</th>\n",
       "      <th>direction_id</th>\n",
       "      <th>route_short_name</th>\n",
       "      <th>route_long_name</th>\n",
       "      <th>agency_id</th>\n",
       "      <th>agency_name</th>\n",
       "      <th>zone_name</th>\n",
       "    </tr>\n",
       "  </thead>\n",
       "  <tbody>\n",
       "    <tr>\n",
       "      <th>0</th>\n",
       "      <td>26398526_300118</td>\n",
       "      <td>06:37:00</td>\n",
       "      <td>06:37:00</td>\n",
       "      <td>37358</td>\n",
       "      <td>1</td>\n",
       "      <td>תל אביב מרכז</td>\n",
       "      <td>32.083715</td>\n",
       "      <td>34.798247</td>\n",
       "      <td>17038</td>\n",
       "      <td>20114</td>\n",
       "      <td>0</td>\n",
       "      <td>NaN</td>\n",
       "      <td>תל אביב מרכז-תל אביב יפו&lt;-&gt;באר שבע מרכז-באר שבע</td>\n",
       "      <td>2</td>\n",
       "      <td>רכבת ישראל</td>\n",
       "      <td>גוש דן</td>\n",
       "    </tr>\n",
       "    <tr>\n",
       "      <th>1</th>\n",
       "      <td>26398526_300118</td>\n",
       "      <td>06:39:00</td>\n",
       "      <td>06:39:00</td>\n",
       "      <td>37350</td>\n",
       "      <td>2</td>\n",
       "      <td>השלום</td>\n",
       "      <td>32.073346</td>\n",
       "      <td>34.793256</td>\n",
       "      <td>17046</td>\n",
       "      <td>20114</td>\n",
       "      <td>0</td>\n",
       "      <td>NaN</td>\n",
       "      <td>תל אביב מרכז-תל אביב יפו&lt;-&gt;באר שבע מרכז-באר שבע</td>\n",
       "      <td>2</td>\n",
       "      <td>רכבת ישראל</td>\n",
       "      <td>גוש דן</td>\n",
       "    </tr>\n",
       "    <tr>\n",
       "      <th>2</th>\n",
       "      <td>26398526_300118</td>\n",
       "      <td>06:44:00</td>\n",
       "      <td>06:44:00</td>\n",
       "      <td>37292</td>\n",
       "      <td>3</td>\n",
       "      <td>תל אביב ההגנה</td>\n",
       "      <td>32.053978</td>\n",
       "      <td>34.784839</td>\n",
       "      <td>17104</td>\n",
       "      <td>20114</td>\n",
       "      <td>0</td>\n",
       "      <td>NaN</td>\n",
       "      <td>תל אביב מרכז-תל אביב יפו&lt;-&gt;באר שבע מרכז-באר שבע</td>\n",
       "      <td>2</td>\n",
       "      <td>רכבת ישראל</td>\n",
       "      <td>גוש דן</td>\n",
       "    </tr>\n",
       "    <tr>\n",
       "      <th>3</th>\n",
       "      <td>26398526_300118</td>\n",
       "      <td>06:58:00</td>\n",
       "      <td>06:58:00</td>\n",
       "      <td>37338</td>\n",
       "      <td>4</td>\n",
       "      <td>לוד</td>\n",
       "      <td>31.945234</td>\n",
       "      <td>34.875081</td>\n",
       "      <td>17058</td>\n",
       "      <td>20114</td>\n",
       "      <td>0</td>\n",
       "      <td>NaN</td>\n",
       "      <td>תל אביב מרכז-תל אביב יפו&lt;-&gt;באר שבע מרכז-באר שבע</td>\n",
       "      <td>2</td>\n",
       "      <td>רכבת ישראל</td>\n",
       "      <td>גוש דן</td>\n",
       "    </tr>\n",
       "    <tr>\n",
       "      <th>4</th>\n",
       "      <td>26398526_300118</td>\n",
       "      <td>07:22:00</td>\n",
       "      <td>07:22:00</td>\n",
       "      <td>37316</td>\n",
       "      <td>5</td>\n",
       "      <td>קרית גת</td>\n",
       "      <td>31.603526</td>\n",
       "      <td>34.777955</td>\n",
       "      <td>17080</td>\n",
       "      <td>20114</td>\n",
       "      <td>0</td>\n",
       "      <td>NaN</td>\n",
       "      <td>תל אביב מרכז-תל אביב יפו&lt;-&gt;באר שבע מרכז-באר שבע</td>\n",
       "      <td>2</td>\n",
       "      <td>רכבת ישראל</td>\n",
       "      <td>קריית גת</td>\n",
       "    </tr>\n",
       "  </tbody>\n",
       "</table>\n",
       "</div>"
      ],
      "text/plain": [
       "           trip_id departure_time arrival_time stop_id  stop_sequence  \\\n",
       "0  26398526_300118       06:37:00     06:37:00   37358              1   \n",
       "1  26398526_300118       06:39:00     06:39:00   37350              2   \n",
       "2  26398526_300118       06:44:00     06:44:00   37292              3   \n",
       "3  26398526_300118       06:58:00     06:58:00   37338              4   \n",
       "4  26398526_300118       07:22:00     07:22:00   37316              5   \n",
       "\n",
       "       stop_name   stop_lat   stop_lon stop_code route_id direction_id  \\\n",
       "0   תל אביב מרכז  32.083715  34.798247     17038    20114            0   \n",
       "1          השלום  32.073346  34.793256     17046    20114            0   \n",
       "2  תל אביב ההגנה  32.053978  34.784839     17104    20114            0   \n",
       "3            לוד  31.945234  34.875081     17058    20114            0   \n",
       "4        קרית גת  31.603526  34.777955     17080    20114            0   \n",
       "\n",
       "  route_short_name                                  route_long_name agency_id  \\\n",
       "0              NaN  תל אביב מרכז-תל אביב יפו<->באר שבע מרכז-באר שבע         2   \n",
       "1              NaN  תל אביב מרכז-תל אביב יפו<->באר שבע מרכז-באר שבע         2   \n",
       "2              NaN  תל אביב מרכז-תל אביב יפו<->באר שבע מרכז-באר שבע         2   \n",
       "3              NaN  תל אביב מרכז-תל אביב יפו<->באר שבע מרכז-באר שבע         2   \n",
       "4              NaN  תל אביב מרכז-תל אביב יפו<->באר שבע מרכז-באר שבע         2   \n",
       "\n",
       "  agency_name zone_name  \n",
       "0  רכבת ישראל    גוש דן  \n",
       "1  רכבת ישראל    גוש דן  \n",
       "2  רכבת ישראל    גוש דן  \n",
       "3  רכבת ישראל    גוש דן  \n",
       "4  רכבת ישראל  קריית גת  "
      ]
     },
     "execution_count": 72,
     "metadata": {},
     "output_type": "execute_result"
    }
   ],
   "source": [
    "f2.head()"
   ]
  },
  {
   "cell_type": "code",
   "execution_count": 74,
   "metadata": {},
   "outputs": [
    {
     "data": {
      "text/plain": [
       "Index(['trip_id', 'departure_time', 'arrival_time', 'stop_id', 'stop_sequence',\n",
       "       'stop_name', 'stop_lat', 'stop_lon', 'stop_code', 'route_id',\n",
       "       'direction_id', 'route_short_name', 'route_long_name', 'agency_id',\n",
       "       'agency_name', 'zone_name'],\n",
       "      dtype='object')"
      ]
     },
     "execution_count": 74,
     "metadata": {},
     "output_type": "execute_result"
    }
   ],
   "source": [
    "f2.columns"
   ]
  },
  {
   "cell_type": "code",
   "execution_count": 9,
   "metadata": {},
   "outputs": [],
   "source": [
    "def get_tidy_feed_df(feed, zones):\n",
    "    s = feed.stops\n",
    "    r = feed.routes\n",
    "    a = feed.agency\n",
    "    t = (feed.trips\n",
    "         # faster joins and slices with Categorical dtypes         \n",
    "         .assign(route_id=lambda x: pd.Categorical(x['route_id'])))\n",
    "    f = (feed.stop_times[fields['stop_times']]\n",
    "         .merge(s[fields['stops']], on='stop_id')\n",
    "         .merge(zones, how='left')\n",
    "         .assign(zone_name=lambda x: pd.Categorical(x['zone_name']))\n",
    "         .merge(t[fields['trips']], on='trip_id', how='left')\n",
    "         .assign(route_id=lambda x: pd.Categorical(x['route_id']))         \n",
    "         .merge(r[fields['routes']], on='route_id', how='left')\n",
    "         .assign(agency_id=lambda x: pd.Categorical(x['agency_id']))\n",
    "         .merge(a[fields['agency']], on='agency_id', how='left')\n",
    "         .assign(agency_name=lambda x: pd.Categorical(x['agency_name']))\n",
    "         .pipe(to_timedelta)\n",
    "        )\n",
    "    return f"
   ]
  },
  {
   "cell_type": "code",
   "execution_count": 10,
   "metadata": {},
   "outputs": [],
   "source": [
    "LOCAL_ZIP_PATH = 'data/gtfs_feeds/2018-02-01.zip' "
   ]
  },
  {
   "cell_type": "code",
   "execution_count": 11,
   "metadata": {},
   "outputs": [],
   "source": [
    "feed = get_partridge_feed_by_date(LOCAL_ZIP_PATH, datetime.date(2018,2 , 1))\n",
    "zones = get_zones()"
   ]
  },
  {
   "cell_type": "code",
   "execution_count": 20,
   "metadata": {},
   "outputs": [
    {
     "data": {
      "text/plain": [
       "False"
      ]
     },
     "execution_count": 20,
     "metadata": {},
     "output_type": "execute_result"
    }
   ],
   "source": [
    "'route_ids' in feed.routes.columns"
   ]
  },
  {
   "cell_type": "code",
   "execution_count": 12,
   "metadata": {},
   "outputs": [
    {
     "data": {
      "text/plain": [
       "(6719, 7)"
      ]
     },
     "execution_count": 12,
     "metadata": {},
     "output_type": "execute_result"
    }
   ],
   "source": [
    "feed.routes.shape"
   ]
  },
  {
   "cell_type": "code",
   "execution_count": 13,
   "metadata": {},
   "outputs": [],
   "source": [
    "f = get_tidy_feed_df(feed, zones)"
   ]
  },
  {
   "cell_type": "code",
   "execution_count": 55,
   "metadata": {},
   "outputs": [
    {
     "data": {
      "text/plain": [
       "Index(['trip_id', 'departure_time', 'arrival_time', 'stop_id', 'stop_sequence',\n",
       "       'stop_name', 'stop_lat', 'stop_lon', 'stop_code', 'zone_name',\n",
       "       'route_id', 'direction_id', 'route_short_name', 'route_long_name',\n",
       "       'agency_id', 'agency_name'],\n",
       "      dtype='object')"
      ]
     },
     "execution_count": 55,
     "metadata": {},
     "output_type": "execute_result"
    }
   ],
   "source": [
    "f.columns"
   ]
  },
  {
   "cell_type": "code",
   "execution_count": 17,
   "metadata": {},
   "outputs": [
    {
     "data": {
      "text/plain": [
       "stop_name\n",
       "הרצל/עולי הגרדום                 3\n",
       "כביש 57/דרך דגניה                3\n",
       "צומת נווה איתמר                  3\n",
       "צומת שער חפר                     3\n",
       "תחנה מרכזית נתניה/רציפים         3\n",
       "הרצל/מינץ                        3\n",
       "תחנת רכבת                        3\n",
       "צומת זיקים                       2\n",
       "הגליל-גן העיר                    2\n",
       "צומת השרון                       2\n",
       "הגליל/6013                       2\n",
       "אחוזת אוהלו                      2\n",
       "הגליל/א רינה                     2\n",
       "האורגים/בעלי מלאכה               2\n",
       "הגליל/אל סאלם                    2\n",
       "הגליל/הקישון                     2\n",
       "הגליל/סאפוריה                    2\n",
       "הגליל/שכונת אלרום                2\n",
       "צומת חטיבת הנגב                  2\n",
       "שדרות מנחם בגין/אנה פרנק         2\n",
       "הגליל / דרך א סלאם               2\n",
       "משרד הרישוי/הלוחמים              2\n",
       "כביש 90/שדרות אליעזר קפלן        2\n",
       "המעיין/פאולוס השישי              2\n",
       "צומת העוגן                       2\n",
       "הגליל                            2\n",
       "צומת דגניה ב                     2\n",
       "צומת גנות הדר                    2\n",
       "הרצל/בנימין מינץ                 2\n",
       "ביס עמל/האורגים                  2\n",
       "                                ..\n",
       "מרכז מסחרי/שד' מעלה יצחק         1\n",
       "מרכז מסחרי/שדרות מעלה יצחק       1\n",
       "מרכז פיליפ ליאון/סולד            1\n",
       "מרכז קהילתי סילבר                1\n",
       "מרכז קליטה חיננית                1\n",
       "מרכז קניות אמש סטאר/כביש 8533    1\n",
       "מרכז מסחרי                       1\n",
       "מרכז הכרמל/הנשיא                 1\n",
       "מעלה קק''ל/הדקל                  1\n",
       "מרטין גהל/האופן                  1\n",
       "מעלה קק''ל/הלוטם                 1\n",
       "מעלה קק''ל/הרותם                 1\n",
       "מעלה קק''ל/שקד                   1\n",
       "מעלה קק''ל/תמר                   1\n",
       "מעפילי מרוקו/הנביאים             1\n",
       "מפעל                             1\n",
       "מפעל הפיס                        1\n",
       "מפעלים אזוריים צמח               1\n",
       "מצפה נפטלי/החורשה                1\n",
       "מצפה נפתלי/המעיין                1\n",
       "מצפה-שלם                         1\n",
       "מקווה                            1\n",
       "מקסיקו/החלמית                    1\n",
       "מקסיקו/סולד                      1\n",
       "מקסיקו/קולומביה                  1\n",
       "מרבד הקסמים/כביש 411             1\n",
       "מרגולין/ברנדייס                  1\n",
       "מרגולין/צג בנות                  1\n",
       "מרטין בובר/הצוללת דקר            1\n",
       "'אבל פן/לייבוביץ                 1\n",
       "Name: route_short_name, Length: 1548, dtype: int64"
      ]
     },
     "execution_count": 17,
     "metadata": {},
     "output_type": "execute_result"
    }
   ],
   "source": [
    "f[f.route_short_name.isin(['20', '26', '136'])].groupby('stop_name').route_short_name.nunique().sort_values(ascending=False)"
   ]
  },
  {
   "cell_type": "code",
   "execution_count": null,
   "metadata": {},
   "outputs": [],
   "source": []
  }
 ],
 "metadata": {
  "kernelspec": {
   "display_name": "Python 3",
   "language": "python",
   "name": "python3"
  },
  "language_info": {
   "codemirror_mode": {
    "name": "ipython",
    "version": 3
   },
   "file_extension": ".py",
   "mimetype": "text/x-python",
   "name": "python",
   "nbconvert_exporter": "python",
   "pygments_lexer": "ipython3",
   "version": "3.6.3"
  }
 },
 "nbformat": 4,
 "nbformat_minor": 2
}
