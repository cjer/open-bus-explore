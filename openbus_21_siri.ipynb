{
 "cells": [
  {
   "cell_type": "code",
   "execution_count": 1,
   "metadata": {
    "ExecuteTime": {
     "end_time": "2018-11-10T16:55:31.319906Z",
     "start_time": "2018-11-10T16:55:30.904982Z"
    }
   },
   "outputs": [],
   "source": [
    "# Put these at the top of every notebook, to get automatic reloading and inline plotting\n",
    "%reload_ext autoreload\n",
    "%autoreload 2\n",
    "%matplotlib inline"
   ]
  },
  {
   "cell_type": "code",
   "execution_count": 2,
   "metadata": {
    "ExecuteTime": {
     "end_time": "2018-11-10T16:55:32.648384Z",
     "start_time": "2018-11-10T16:55:31.321865Z"
    }
   },
   "outputs": [],
   "source": [
    "import pandas as pd\n",
    "import partridge as ptg\n",
    "import matplotlib.pyplot as plt\n",
    "import seaborn as sns\n",
    "import altair as alt\n",
    "import datetime\n",
    "import numpy as np\n",
    "\n",
    "import gtfs_utils\n",
    "\n",
    "alt.renderers.enable('notebook')\n",
    "alt.data_transformers.enable('json')\n",
    "\n",
    "sns.set_style(\"white\")\n",
    "sns.set_context(\"talk\")\n",
    "sns.set_palette('Set2', 10)"
   ]
  },
  {
   "cell_type": "code",
   "execution_count": 3,
   "metadata": {
    "ExecuteTime": {
     "end_time": "2018-11-10T16:55:33.761208Z",
     "start_time": "2018-11-10T16:55:33.595651Z"
    }
   },
   "outputs": [],
   "source": [
    "import gzip\n",
    "\n",
    "def parse_trips(path):\n",
    "    trip = []\n",
    "    with gzip.open(path) as f:\n",
    "        lines = f.read().strip().splitlines()\n",
    "        data = [line.split(b',')[2:] for line in lines if line]\n",
    "    f.close()\n",
    "    for line in data:\n",
    "        line = [element.decode(\"utf-8\") for element in line]\n",
    "        trip.append({\"agency\": line[0], \"route_id\": line[1], \"line_num\": line[2]\n",
    "                        , \"service_id\": line[3], \"start_time\": line[4], \"bus_id\": line[5],\n",
    "                     \"end_time\": line[6], \"time_recorded\": line[7],\n",
    "                     \"coordinates\": (line[8], line[9])})\n",
    "\n",
    "    return trip"
   ]
  },
  {
   "cell_type": "code",
   "execution_count": 4,
   "metadata": {
    "ExecuteTime": {
     "end_time": "2018-11-10T16:55:36.355007Z",
     "start_time": "2018-11-10T16:55:36.195439Z"
    }
   },
   "outputs": [],
   "source": [
    "from os.path import join"
   ]
  },
  {
   "cell_type": "code",
   "execution_count": 5,
   "metadata": {
    "ExecuteTime": {
     "end_time": "2018-11-10T16:55:36.725045Z",
     "start_time": "2018-11-10T16:55:36.556429Z"
    }
   },
   "outputs": [],
   "source": [
    "import re\n",
    "import datetime"
   ]
  },
  {
   "cell_type": "code",
   "execution_count": 6,
   "metadata": {
    "ExecuteTime": {
     "end_time": "2018-11-10T16:55:37.210784Z",
     "start_time": "2018-11-10T16:55:37.021330Z"
    }
   },
   "outputs": [],
   "source": [
    "def single_timestr_to_seconds(x, *, inverse=False, mod24=False, only_mins=False):\n",
    "    \"\"\"\n",
    "    Given an HH:MM:SS time string ``x``, return the number of seconds\n",
    "    past midnight that it represents.\n",
    "    In keeping with GTFS standards, the hours entry may be greater than\n",
    "    23.\n",
    "    If ``mod24``, then return the number of seconds modulo ``24*3600``.\n",
    "    If ``inverse``, then do the inverse operation.\n",
    "    In this case, if ``mod24`` also, then first take the number of\n",
    "    seconds modulo ``24*3600``.\n",
    "    \"\"\"\n",
    "    if not inverse:\n",
    "        try:\n",
    "            if not only_mins:\n",
    "                hours, mins, seconds = x.split(\":\")\n",
    "                result = int(hours) * 3600 + int(mins) * 60 + int(seconds)\n",
    "            else:\n",
    "                hours, mins = x.split(\":\")\n",
    "            if mod24:\n",
    "                result %= 24 * 3600\n",
    "        except:\n",
    "            result = np.nan\n",
    "    else:\n",
    "        try:\n",
    "            seconds = int(x)\n",
    "            if mod24:\n",
    "                seconds %= 24 * 3600\n",
    "            hours, remainder = divmod(seconds, 3600)\n",
    "            mins, secs = divmod(remainder, 60)\n",
    "            result = \"{:02d}:{:02d}:{:02d}\".format(hours, mins, secs)\n",
    "        except:\n",
    "            result = np.nan\n",
    "    return result"
   ]
  },
  {
   "cell_type": "code",
   "execution_count": 7,
   "metadata": {
    "ExecuteTime": {
     "end_time": "2018-11-10T16:55:39.016405Z",
     "start_time": "2018-11-10T16:55:38.824912Z"
    }
   },
   "outputs": [],
   "source": [
    "def timestr_to_seconds(x, *, only_mins=False):\n",
    "    try:\n",
    "        hms = x.str.split(':', expand=True)\n",
    "        if not only_mins:\n",
    "            result = hms.iloc[:,0].astype(int) * 3600 + hms.iloc[:,1].astype(int) * 60 + hms.iloc[:,2].astype(int)\n",
    "        else:\n",
    "            result = hms.iloc[:,0].astype(int) * 3600 + hms.iloc[:,1].astype(int) * 60\n",
    "    except:\n",
    "        result = np.nan\n",
    "\n",
    "    return result"
   ]
  },
  {
   "cell_type": "code",
   "execution_count": 8,
   "metadata": {
    "ExecuteTime": {
     "end_time": "2018-11-10T16:55:39.591650Z",
     "start_time": "2018-11-10T16:55:39.432037Z"
    }
   },
   "outputs": [],
   "source": [
    "def create_trip_df(path):\n",
    "    df = pd.DataFrame(parse_trips(path))\n",
    "    date = datetime.datetime.strptime(re.findall('siri_rt_data\\\\.([^\\\\.]+)\\\\.\\\\d+\\\\.log', path)[0], '%Y-%m-%d')\n",
    "    df[['lat', 'lon']] = pd.DataFrame(df.coordinates.values.tolist()).astype(float)\n",
    "    df = (df.drop('coordinates', axis=1)\n",
    "          .assign(agency = lambda x: x.agency.astype(int))\n",
    "          .assign(service_id = lambda x: x.service_id.astype(int))\n",
    "          .assign(route_id = lambda x: x.route_id.astype(int))\n",
    "          .assign(start_time = lambda x: timestr_to_seconds(x.start_time, only_mins=True))\n",
    "          .assign(end_time = lambda x: timestr_to_seconds(x.end_time, only_mins=True))\n",
    "          .assign(time_recorded = lambda x: timestr_to_seconds(x.time_recorded))\n",
    "          .assign(date = date)\n",
    "         )\n",
    "    return df"
   ]
  },
  {
   "cell_type": "code",
   "execution_count": 27,
   "metadata": {
    "ExecuteTime": {
     "end_time": "2018-11-02T21:24:20.587077Z",
     "start_time": "2018-11-02T21:24:20.259029Z"
    }
   },
   "outputs": [],
   "source": [
    "FOLDER = 'data\\\\siri\\\\2018-10'\n",
    "file = 'siri_rt_data.2018-10-08.11.log.gz'"
   ]
  },
  {
   "cell_type": "code",
   "execution_count": 28,
   "metadata": {
    "ExecuteTime": {
     "end_time": "2018-11-02T21:24:42.894333Z",
     "start_time": "2018-11-02T21:24:20.649563Z"
    }
   },
   "outputs": [],
   "source": [
    "df = create_trip_df(join(FOLDER, file))"
   ]
  },
  {
   "cell_type": "code",
   "execution_count": 29,
   "metadata": {
    "ExecuteTime": {
     "end_time": "2018-11-02T21:24:43.253622Z",
     "start_time": "2018-11-02T21:24:42.894333Z"
    }
   },
   "outputs": [
    {
     "data": {
      "text/html": [
       "<div>\n",
       "<style scoped>\n",
       "    .dataframe tbody tr th:only-of-type {\n",
       "        vertical-align: middle;\n",
       "    }\n",
       "\n",
       "    .dataframe tbody tr th {\n",
       "        vertical-align: top;\n",
       "    }\n",
       "\n",
       "    .dataframe thead th {\n",
       "        text-align: right;\n",
       "    }\n",
       "</style>\n",
       "<table border=\"1\" class=\"dataframe\">\n",
       "  <thead>\n",
       "    <tr style=\"text-align: right;\">\n",
       "      <th></th>\n",
       "      <th>agency</th>\n",
       "      <th>bus_id</th>\n",
       "      <th>end_time</th>\n",
       "      <th>line_num</th>\n",
       "      <th>route_id</th>\n",
       "      <th>service_id</th>\n",
       "      <th>start_time</th>\n",
       "      <th>time_recorded</th>\n",
       "      <th>lat</th>\n",
       "      <th>lon</th>\n",
       "      <th>date</th>\n",
       "    </tr>\n",
       "  </thead>\n",
       "  <tbody>\n",
       "    <tr>\n",
       "      <th>0</th>\n",
       "      <td>31</td>\n",
       "      <td>9164801</td>\n",
       "      <td>75660</td>\n",
       "      <td>4</td>\n",
       "      <td>1684</td>\n",
       "      <td>35140039</td>\n",
       "      <td>73200</td>\n",
       "      <td>74116</td>\n",
       "      <td>31.661625</td>\n",
       "      <td>34.583431</td>\n",
       "      <td>2018-10-08</td>\n",
       "    </tr>\n",
       "    <tr>\n",
       "      <th>1</th>\n",
       "      <td>31</td>\n",
       "      <td>4349034</td>\n",
       "      <td>78600</td>\n",
       "      <td>4</td>\n",
       "      <td>1684</td>\n",
       "      <td>35140040</td>\n",
       "      <td>76200</td>\n",
       "      <td>69156</td>\n",
       "      <td>0.000000</td>\n",
       "      <td>0.000000</td>\n",
       "      <td>2018-10-08</td>\n",
       "    </tr>\n",
       "    <tr>\n",
       "      <th>2</th>\n",
       "      <td>31</td>\n",
       "      <td>4355134</td>\n",
       "      <td>82380</td>\n",
       "      <td>4</td>\n",
       "      <td>1684</td>\n",
       "      <td>35140041</td>\n",
       "      <td>80400</td>\n",
       "      <td>72726</td>\n",
       "      <td>0.000000</td>\n",
       "      <td>0.000000</td>\n",
       "      <td>2018-10-08</td>\n",
       "    </tr>\n",
       "    <tr>\n",
       "      <th>3</th>\n",
       "      <td>14</td>\n",
       "      <td>270B</td>\n",
       "      <td>74460</td>\n",
       "      <td>1</td>\n",
       "      <td>12128</td>\n",
       "      <td>30026850</td>\n",
       "      <td>73200</td>\n",
       "      <td>74107</td>\n",
       "      <td>33.068855</td>\n",
       "      <td>35.144180</td>\n",
       "      <td>2018-10-08</td>\n",
       "    </tr>\n",
       "    <tr>\n",
       "      <th>4</th>\n",
       "      <td>14</td>\n",
       "      <td>271B</td>\n",
       "      <td>76620</td>\n",
       "      <td>1</td>\n",
       "      <td>12128</td>\n",
       "      <td>30026855</td>\n",
       "      <td>75600</td>\n",
       "      <td>31417</td>\n",
       "      <td>0.000000</td>\n",
       "      <td>0.000000</td>\n",
       "      <td>2018-10-08</td>\n",
       "    </tr>\n",
       "  </tbody>\n",
       "</table>\n",
       "</div>"
      ],
      "text/plain": [
       "   agency   bus_id  end_time line_num  route_id  service_id  start_time  \\\n",
       "0      31  9164801     75660        4      1684    35140039       73200   \n",
       "1      31  4349034     78600        4      1684    35140040       76200   \n",
       "2      31  4355134     82380        4      1684    35140041       80400   \n",
       "3      14     270B     74460        1     12128    30026850       73200   \n",
       "4      14     271B     76620        1     12128    30026855       75600   \n",
       "\n",
       "   time_recorded        lat        lon       date  \n",
       "0          74116  31.661625  34.583431 2018-10-08  \n",
       "1          69156   0.000000   0.000000 2018-10-08  \n",
       "2          72726   0.000000   0.000000 2018-10-08  \n",
       "3          74107  33.068855  35.144180 2018-10-08  \n",
       "4          31417   0.000000   0.000000 2018-10-08  "
      ]
     },
     "execution_count": 29,
     "metadata": {},
     "output_type": "execute_result"
    }
   ],
   "source": [
    "df.head()"
   ]
  },
  {
   "cell_type": "code",
   "execution_count": 25,
   "metadata": {
    "ExecuteTime": {
     "end_time": "2018-11-02T21:22:36.792856Z",
     "start_time": "2018-11-02T21:22:36.449185Z"
    }
   },
   "outputs": [
    {
     "data": {
      "text/plain": [
       "agency                    int32\n",
       "bus_id                   object\n",
       "end_time                  int32\n",
       "line_num                 object\n",
       "route_id                  int32\n",
       "service_id                int32\n",
       "start_time                int32\n",
       "time_recorded             int32\n",
       "lat                     float64\n",
       "lon                     float64\n",
       "date             datetime64[ns]\n",
       "dtype: object"
      ]
     },
     "execution_count": 25,
     "metadata": {},
     "output_type": "execute_result"
    }
   ],
   "source": [
    "df.dtypes"
   ]
  },
  {
   "cell_type": "code",
   "execution_count": 30,
   "metadata": {
    "ExecuteTime": {
     "end_time": "2018-11-02T21:24:44.472515Z",
     "start_time": "2018-11-02T21:24:43.253622Z"
    }
   },
   "outputs": [],
   "source": [
    "df.to_parquet(join(FOLDER, 'siri_rt_data.2018-10-08.11.FIXED.parq'))"
   ]
  },
  {
   "cell_type": "code",
   "execution_count": 31,
   "metadata": {
    "ExecuteTime": {
     "end_time": "2018-11-02T21:25:33.479039Z",
     "start_time": "2018-11-02T21:25:32.713627Z"
    }
   },
   "outputs": [],
   "source": [
    "pdf = pd.read_parquet(join(FOLDER, 'siri_rt_data.2018-10-08.11.FIXED.parq'))"
   ]
  },
  {
   "cell_type": "code",
   "execution_count": 32,
   "metadata": {
    "ExecuteTime": {
     "end_time": "2018-11-02T21:25:33.806740Z",
     "start_time": "2018-11-02T21:25:33.479039Z"
    }
   },
   "outputs": [
    {
     "data": {
      "text/html": [
       "<div>\n",
       "<style scoped>\n",
       "    .dataframe tbody tr th:only-of-type {\n",
       "        vertical-align: middle;\n",
       "    }\n",
       "\n",
       "    .dataframe tbody tr th {\n",
       "        vertical-align: top;\n",
       "    }\n",
       "\n",
       "    .dataframe thead th {\n",
       "        text-align: right;\n",
       "    }\n",
       "</style>\n",
       "<table border=\"1\" class=\"dataframe\">\n",
       "  <thead>\n",
       "    <tr style=\"text-align: right;\">\n",
       "      <th></th>\n",
       "      <th>agency</th>\n",
       "      <th>bus_id</th>\n",
       "      <th>end_time</th>\n",
       "      <th>line_num</th>\n",
       "      <th>route_id</th>\n",
       "      <th>service_id</th>\n",
       "      <th>start_time</th>\n",
       "      <th>time_recorded</th>\n",
       "      <th>lat</th>\n",
       "      <th>lon</th>\n",
       "      <th>date</th>\n",
       "    </tr>\n",
       "  </thead>\n",
       "  <tbody>\n",
       "    <tr>\n",
       "      <th>0</th>\n",
       "      <td>31</td>\n",
       "      <td>9164801</td>\n",
       "      <td>75660</td>\n",
       "      <td>4</td>\n",
       "      <td>1684</td>\n",
       "      <td>35140039</td>\n",
       "      <td>73200</td>\n",
       "      <td>74116</td>\n",
       "      <td>31.661625</td>\n",
       "      <td>34.583431</td>\n",
       "      <td>2018-10-08</td>\n",
       "    </tr>\n",
       "    <tr>\n",
       "      <th>1</th>\n",
       "      <td>31</td>\n",
       "      <td>4349034</td>\n",
       "      <td>78600</td>\n",
       "      <td>4</td>\n",
       "      <td>1684</td>\n",
       "      <td>35140040</td>\n",
       "      <td>76200</td>\n",
       "      <td>69156</td>\n",
       "      <td>0.000000</td>\n",
       "      <td>0.000000</td>\n",
       "      <td>2018-10-08</td>\n",
       "    </tr>\n",
       "    <tr>\n",
       "      <th>2</th>\n",
       "      <td>31</td>\n",
       "      <td>4355134</td>\n",
       "      <td>82380</td>\n",
       "      <td>4</td>\n",
       "      <td>1684</td>\n",
       "      <td>35140041</td>\n",
       "      <td>80400</td>\n",
       "      <td>72726</td>\n",
       "      <td>0.000000</td>\n",
       "      <td>0.000000</td>\n",
       "      <td>2018-10-08</td>\n",
       "    </tr>\n",
       "    <tr>\n",
       "      <th>3</th>\n",
       "      <td>14</td>\n",
       "      <td>270B</td>\n",
       "      <td>74460</td>\n",
       "      <td>1</td>\n",
       "      <td>12128</td>\n",
       "      <td>30026850</td>\n",
       "      <td>73200</td>\n",
       "      <td>74107</td>\n",
       "      <td>33.068855</td>\n",
       "      <td>35.144180</td>\n",
       "      <td>2018-10-08</td>\n",
       "    </tr>\n",
       "    <tr>\n",
       "      <th>4</th>\n",
       "      <td>14</td>\n",
       "      <td>271B</td>\n",
       "      <td>76620</td>\n",
       "      <td>1</td>\n",
       "      <td>12128</td>\n",
       "      <td>30026855</td>\n",
       "      <td>75600</td>\n",
       "      <td>31417</td>\n",
       "      <td>0.000000</td>\n",
       "      <td>0.000000</td>\n",
       "      <td>2018-10-08</td>\n",
       "    </tr>\n",
       "  </tbody>\n",
       "</table>\n",
       "</div>"
      ],
      "text/plain": [
       "   agency   bus_id  end_time line_num  route_id  service_id  start_time  \\\n",
       "0      31  9164801     75660        4      1684    35140039       73200   \n",
       "1      31  4349034     78600        4      1684    35140040       76200   \n",
       "2      31  4355134     82380        4      1684    35140041       80400   \n",
       "3      14     270B     74460        1     12128    30026850       73200   \n",
       "4      14     271B     76620        1     12128    30026855       75600   \n",
       "\n",
       "   time_recorded        lat        lon       date  \n",
       "0          74116  31.661625  34.583431 2018-10-08  \n",
       "1          69156   0.000000   0.000000 2018-10-08  \n",
       "2          72726   0.000000   0.000000 2018-10-08  \n",
       "3          74107  33.068855  35.144180 2018-10-08  \n",
       "4          31417   0.000000   0.000000 2018-10-08  "
      ]
     },
     "execution_count": 32,
     "metadata": {},
     "output_type": "execute_result"
    }
   ],
   "source": [
    "pdf.head()"
   ]
  },
  {
   "cell_type": "code",
   "execution_count": 22,
   "metadata": {
    "ExecuteTime": {
     "end_time": "2018-09-17T22:00:41.070320Z",
     "start_time": "2018-09-17T22:00:40.882903Z"
    }
   },
   "outputs": [
    {
     "data": {
      "text/plain": [
       "agency                    int32\n",
       "bus_id                   object\n",
       "end_time                  int32\n",
       "line_num                 object\n",
       "route_id                  int32\n",
       "service_id                int32\n",
       "start_time                int32\n",
       "time_recorded             int32\n",
       "lat                     float64\n",
       "lon                     float64\n",
       "date             datetime64[ns]\n",
       "dtype: object"
      ]
     },
     "execution_count": 22,
     "metadata": {},
     "output_type": "execute_result"
    }
   ],
   "source": [
    "pdf.dtypes"
   ]
  },
  {
   "cell_type": "code",
   "execution_count": 17,
   "metadata": {
    "ExecuteTime": {
     "end_time": "2018-11-10T17:29:30.020797Z",
     "start_time": "2018-11-10T17:29:29.503963Z"
    }
   },
   "outputs": [],
   "source": [
    "from glob import glob\n",
    "import os\n"
   ]
  },
  {
   "cell_type": "code",
   "execution_count": 37,
   "metadata": {
    "ExecuteTime": {
     "end_time": "2018-11-10T17:50:00.167306Z",
     "start_time": "2018-11-10T17:49:59.976813Z"
    }
   },
   "outputs": [
    {
     "data": {
      "text/plain": [
       "[0, 2, 3, 4, 5, 6, 7, 8, 9, 10, 11]"
      ]
     },
     "execution_count": 37,
     "metadata": {},
     "output_type": "execute_result"
    }
   ],
   "source": []
  },
  {
   "cell_type": "code",
   "execution_count": 53,
   "metadata": {
    "ExecuteTime": {
     "end_time": "2018-11-10T18:12:04.939648Z",
     "start_time": "2018-11-10T18:12:02.679920Z"
    }
   },
   "outputs": [
    {
     "name": "stderr",
     "output_type": "stream",
     "text": [
      "C:\\Users\\dbare\\Anaconda3\\lib\\site-packages\\IPython\\core\\interactiveshell.py:2728: DtypeWarning: Columns (2,10) have mixed types. Specify dtype option on import or set low_memory=False.\n",
      "  interactivity=interactivity, compiler=compiler, result=result)\n"
     ]
    },
    {
     "data": {
      "text/html": [
       "<div>\n",
       "<style scoped>\n",
       "    .dataframe tbody tr th:only-of-type {\n",
       "        vertical-align: middle;\n",
       "    }\n",
       "\n",
       "    .dataframe tbody tr th {\n",
       "        vertical-align: top;\n",
       "    }\n",
       "\n",
       "    .dataframe thead th {\n",
       "        text-align: right;\n",
       "    }\n",
       "</style>\n",
       "<table border=\"1\" class=\"dataframe\">\n",
       "  <thead>\n",
       "    <tr style=\"text-align: right;\">\n",
       "      <th></th>\n",
       "      <th>2</th>\n",
       "      <th>3</th>\n",
       "      <th>4</th>\n",
       "      <th>5</th>\n",
       "      <th>6</th>\n",
       "      <th>7</th>\n",
       "      <th>8</th>\n",
       "      <th>9</th>\n",
       "      <th>10</th>\n",
       "      <th>11</th>\n",
       "    </tr>\n",
       "  </thead>\n",
       "  <tbody>\n",
       "    <tr>\n",
       "      <th>0</th>\n",
       "      <td>30</td>\n",
       "      <td>11688</td>\n",
       "      <td>1</td>\n",
       "      <td>33565052</td>\n",
       "      <td>06:00</td>\n",
       "      <td>65</td>\n",
       "      <td>06:52</td>\n",
       "      <td>06:25:00</td>\n",
       "      <td>32.79864501953125</td>\n",
       "      <td>35.018318</td>\n",
       "    </tr>\n",
       "    <tr>\n",
       "      <th>1</th>\n",
       "      <td>3</td>\n",
       "      <td>3701</td>\n",
       "      <td>25</td>\n",
       "      <td>1308393</td>\n",
       "      <td>08:45</td>\n",
       "      <td>7770269</td>\n",
       "      <td>08:59</td>\n",
       "      <td>04:00:28</td>\n",
       "      <td>0</td>\n",
       "      <td>0.000000</td>\n",
       "    </tr>\n",
       "    <tr>\n",
       "      <th>2</th>\n",
       "      <td>14</td>\n",
       "      <td>6486</td>\n",
       "      <td>81</td>\n",
       "      <td>10416660</td>\n",
       "      <td>06:55</td>\n",
       "      <td>128A</td>\n",
       "      <td>07:05</td>\n",
       "      <td>05:41:36</td>\n",
       "      <td>0</td>\n",
       "      <td>0.000000</td>\n",
       "    </tr>\n",
       "    <tr>\n",
       "      <th>3</th>\n",
       "      <td>7</td>\n",
       "      <td>1424</td>\n",
       "      <td>29</td>\n",
       "      <td>31447402</td>\n",
       "      <td>06:55</td>\n",
       "      <td>637D</td>\n",
       "      <td>07:38</td>\n",
       "      <td>05:31:25</td>\n",
       "      <td>0</td>\n",
       "      <td>0.000000</td>\n",
       "    </tr>\n",
       "    <tr>\n",
       "      <th>4</th>\n",
       "      <td>8</td>\n",
       "      <td>8300</td>\n",
       "      <td>27</td>\n",
       "      <td>29000336</td>\n",
       "      <td>06:55</td>\n",
       "      <td>7262552</td>\n",
       "      <td>07:24</td>\n",
       "      <td>04:01:25</td>\n",
       "      <td>0</td>\n",
       "      <td>0.000000</td>\n",
       "    </tr>\n",
       "  </tbody>\n",
       "</table>\n",
       "</div>"
      ],
      "text/plain": [
       "   2      3   4         5      6        7      8         9   \\\n",
       "0  30  11688   1  33565052  06:00       65  06:52  06:25:00   \n",
       "1   3   3701  25   1308393  08:45  7770269  08:59  04:00:28   \n",
       "2  14   6486  81  10416660  06:55     128A  07:05  05:41:36   \n",
       "3   7   1424  29  31447402  06:55     637D  07:38  05:31:25   \n",
       "4   8   8300  27  29000336  06:55  7262552  07:24  04:01:25   \n",
       "\n",
       "                  10         11  \n",
       "0  32.79864501953125  35.018318  \n",
       "1                  0   0.000000  \n",
       "2                  0   0.000000  \n",
       "3                  0   0.000000  \n",
       "4                  0   0.000000  "
      ]
     },
     "execution_count": 53,
     "metadata": {},
     "output_type": "execute_result"
    }
   ],
   "source": [
    "x = pd.read_csv(tf, usecols=list(range(2, 12)), header=None, error_bad_lines=False)\n",
    "x.head()"
   ]
  },
  {
   "cell_type": "code",
   "execution_count": 61,
   "metadata": {
    "ExecuteTime": {
     "end_time": "2018-11-10T18:16:10.360059Z",
     "start_time": "2018-11-10T18:16:08.964358Z"
    }
   },
   "outputs": [
    {
     "data": {
      "text/html": [
       "<div>\n",
       "<style scoped>\n",
       "    .dataframe tbody tr th:only-of-type {\n",
       "        vertical-align: middle;\n",
       "    }\n",
       "\n",
       "    .dataframe tbody tr th {\n",
       "        vertical-align: top;\n",
       "    }\n",
       "\n",
       "    .dataframe thead th {\n",
       "        text-align: right;\n",
       "    }\n",
       "</style>\n",
       "<table border=\"1\" class=\"dataframe\">\n",
       "  <thead>\n",
       "    <tr style=\"text-align: right;\">\n",
       "      <th></th>\n",
       "      <th>agency</th>\n",
       "      <th>route_id</th>\n",
       "      <th>line_num</th>\n",
       "      <th>service_id</th>\n",
       "      <th>start_time</th>\n",
       "      <th>bus_id</th>\n",
       "      <th>end_time</th>\n",
       "      <th>time_recorded</th>\n",
       "      <th>lat</th>\n",
       "      <th>lon</th>\n",
       "      <th>date</th>\n",
       "    </tr>\n",
       "  </thead>\n",
       "  <tbody>\n",
       "    <tr>\n",
       "      <th>0</th>\n",
       "      <td>3</td>\n",
       "      <td>10298</td>\n",
       "      <td>547</td>\n",
       "      <td>35593515</td>\n",
       "      <td>82800</td>\n",
       "      <td>7766969</td>\n",
       "      <td>85980</td>\n",
       "      <td>83712</td>\n",
       "      <td>31.648306</td>\n",
       "      <td>34.678215</td>\n",
       "      <td>2018-11-03</td>\n",
       "    </tr>\n",
       "    <tr>\n",
       "      <th>1</th>\n",
       "      <td>25</td>\n",
       "      <td>19308</td>\n",
       "      <td>485</td>\n",
       "      <td>24910479</td>\n",
       "      <td>82800</td>\n",
       "      <td>1536288</td>\n",
       "      <td>85920</td>\n",
       "      <td>83705</td>\n",
       "      <td>31.801535</td>\n",
       "      <td>35.128819</td>\n",
       "      <td>2018-11-03</td>\n",
       "    </tr>\n",
       "    <tr>\n",
       "      <th>2</th>\n",
       "      <td>25</td>\n",
       "      <td>19308</td>\n",
       "      <td>485</td>\n",
       "      <td>24910478</td>\n",
       "      <td>0</td>\n",
       "      <td>1536488</td>\n",
       "      <td>3300</td>\n",
       "      <td>82378</td>\n",
       "      <td>0.000000</td>\n",
       "      <td>0.000000</td>\n",
       "      <td>2018-11-03</td>\n",
       "    </tr>\n",
       "    <tr>\n",
       "      <th>3</th>\n",
       "      <td>18</td>\n",
       "      <td>10570</td>\n",
       "      <td>225</td>\n",
       "      <td>35537292</td>\n",
       "      <td>80400</td>\n",
       "      <td>7323552</td>\n",
       "      <td>83760</td>\n",
       "      <td>83704</td>\n",
       "      <td>31.696199</td>\n",
       "      <td>35.112934</td>\n",
       "      <td>2018-11-03</td>\n",
       "    </tr>\n",
       "    <tr>\n",
       "      <th>4</th>\n",
       "      <td>18</td>\n",
       "      <td>10570</td>\n",
       "      <td>225</td>\n",
       "      <td>35537293</td>\n",
       "      <td>82800</td>\n",
       "      <td>5591487</td>\n",
       "      <td>86280</td>\n",
       "      <td>83715</td>\n",
       "      <td>31.773964</td>\n",
       "      <td>35.182816</td>\n",
       "      <td>2018-11-03</td>\n",
       "    </tr>\n",
       "  </tbody>\n",
       "</table>\n",
       "</div>"
      ],
      "text/plain": [
       "   agency  route_id line_num  service_id  start_time   bus_id  end_time  \\\n",
       "0       3     10298      547    35593515       82800  7766969     85980   \n",
       "1      25     19308      485    24910479       82800  1536288     85920   \n",
       "2      25     19308      485    24910478           0  1536488      3300   \n",
       "3      18     10570      225    35537292       80400  7323552     83760   \n",
       "4      18     10570      225    35537293       82800  5591487     86280   \n",
       "\n",
       "   time_recorded        lat        lon       date  \n",
       "0          83712  31.648306  34.678215 2018-11-03  \n",
       "1          83705  31.801535  35.128819 2018-11-03  \n",
       "2          82378   0.000000   0.000000 2018-11-03  \n",
       "3          83704  31.696199  35.112934 2018-11-03  \n",
       "4          83715  31.773964  35.182816 2018-11-03  "
      ]
     },
     "execution_count": 61,
     "metadata": {},
     "output_type": "execute_result"
    }
   ],
   "source": [
    "tf = r\"C:\\dev\\ds\\open-bus-explore\\data\\siri\\2018-11\\siri_rt_data.2018-11-03.1.log.gz\"\n",
    "def create_trip_df(path):\n",
    "    header = [\"timestamp\", \"desc\", \"agency\", \n",
    "              \"route_id\", \"line_num\", \"service_id\", \n",
    "              \"start_time\", \"bus_id\", \"end_time\", \n",
    "              \"time_recorded\", \"lat\", \"lon\"]\n",
    "    date = datetime.datetime.strptime(re.findall('siri_rt_data\\\\.([^\\\\.]+)\\\\.\\\\d+\\\\.log', path)[0], '%Y-%m-%d')\n",
    "    df = pd.read_csv(path, header=None, error_bad_lines=False)\n",
    "    df.columns = header\n",
    "    df = df.drop(['timestamp', 'desc'], axis=1)\n",
    "    return (df\n",
    "              .assign(agency = lambda x: x.agency.astype(int))\n",
    "              .assign(service_id = lambda x: x.service_id.astype(int))\n",
    "              .assign(route_id = lambda x: x.route_id.astype(int))\n",
    "              .assign(lat = lambda x: x.lat.astype(float))\n",
    "              .assign(lon = lambda x: x.lon.astype(float))\n",
    "              .assign(start_time = lambda x: timestr_to_seconds(x.start_time, only_mins=True))\n",
    "              .assign(end_time = lambda x: timestr_to_seconds(x.end_time, only_mins=True))\n",
    "              .assign(time_recorded = lambda x: timestr_to_seconds(x.time_recorded))\n",
    "              .assign(date = date))\n",
    "    \n",
    "t = create_trip_df(tf)\n",
    "t.head()"
   ]
  },
  {
   "cell_type": "code",
   "execution_count": 62,
   "metadata": {
    "ExecuteTime": {
     "end_time": "2018-11-10T18:29:30.127813Z",
     "start_time": "2018-11-10T18:16:11.301842Z"
    }
   },
   "outputs": [
    {
     "name": "stdout",
     "output_type": "stream",
     "text": [
      "data\\siri\\2018-11\\siri_rt_data.2018-11-03.1.log.gz\n",
      "data\\siri\\2018-11\\siri_rt_data.2018-11-04.0.log.gz\n",
      "data\\siri\\2018-11\\siri_rt_data.2018-11-04.1.log.gz\n",
      "data\\siri\\2018-11\\siri_rt_data.2018-11-04.10.log.gz\n",
      "data\\siri\\2018-11\\siri_rt_data.2018-11-04.11.log.gz\n",
      "data\\siri\\2018-11\\siri_rt_data.2018-11-04.2.log.gz\n",
      "data\\siri\\2018-11\\siri_rt_data.2018-11-04.3.log.gz\n",
      "data\\siri\\2018-11\\siri_rt_data.2018-11-04.4.log.gz\n",
      "data\\siri\\2018-11\\siri_rt_data.2018-11-04.5.log.gz\n",
      "data\\siri\\2018-11\\siri_rt_data.2018-11-04.6.log.gz\n",
      "data\\siri\\2018-11\\siri_rt_data.2018-11-04.7.log.gz\n",
      "data\\siri\\2018-11\\siri_rt_data.2018-11-04.8.log.gz\n",
      "data\\siri\\2018-11\\siri_rt_data.2018-11-04.9.log.gz\n",
      "data\\siri\\2018-11\\siri_rt_data.2018-11-05.0.log.gz\n",
      "data\\siri\\2018-11\\siri_rt_data.2018-11-05.1.log.gz\n",
      "data\\siri\\2018-11\\siri_rt_data.2018-11-05.10.log.gz\n",
      "data\\siri\\2018-11\\siri_rt_data.2018-11-05.11.log.gz\n",
      "data\\siri\\2018-11\\siri_rt_data.2018-11-05.2.log.gz\n",
      "data\\siri\\2018-11\\siri_rt_data.2018-11-05.3.log.gz\n",
      "data\\siri\\2018-11\\siri_rt_data.2018-11-05.4.log.gz\n",
      "data\\siri\\2018-11\\siri_rt_data.2018-11-05.5.log.gz\n",
      "data\\siri\\2018-11\\siri_rt_data.2018-11-05.6.log.gz\n",
      "data\\siri\\2018-11\\siri_rt_data.2018-11-05.7.log.gz\n",
      "data\\siri\\2018-11\\siri_rt_data.2018-11-05.8.log.gz\n",
      "data\\siri\\2018-11\\siri_rt_data.2018-11-05.9.log.gz\n",
      "data\\siri\\2018-11\\siri_rt_data.2018-11-06.0.log.gz\n",
      "data\\siri\\2018-11\\siri_rt_data.2018-11-06.1.log.gz\n",
      "data\\siri\\2018-11\\siri_rt_data.2018-11-06.10.log.gz\n",
      "data\\siri\\2018-11\\siri_rt_data.2018-11-06.11.log.gz\n",
      "data\\siri\\2018-11\\siri_rt_data.2018-11-06.2.log.gz\n",
      "data\\siri\\2018-11\\siri_rt_data.2018-11-06.3.log.gz\n",
      "data\\siri\\2018-11\\siri_rt_data.2018-11-06.4.log.gz\n",
      "data\\siri\\2018-11\\siri_rt_data.2018-11-06.5.log.gz\n",
      "data\\siri\\2018-11\\siri_rt_data.2018-11-06.6.log.gz\n",
      "data\\siri\\2018-11\\siri_rt_data.2018-11-06.7.log.gz\n",
      "data\\siri\\2018-11\\siri_rt_data.2018-11-06.8.log.gz\n",
      "data\\siri\\2018-11\\siri_rt_data.2018-11-06.9.log.gz\n",
      "data\\siri\\2018-11\\siri_rt_data.2018-11-07.0.log.gz\n",
      "data\\siri\\2018-11\\siri_rt_data.2018-11-07.1.log.gz\n",
      "data\\siri\\2018-11\\siri_rt_data.2018-11-07.10.log.gz\n",
      "data\\siri\\2018-11\\siri_rt_data.2018-11-07.11.log.gz\n",
      "data\\siri\\2018-11\\siri_rt_data.2018-11-07.2.log.gz\n",
      "data\\siri\\2018-11\\siri_rt_data.2018-11-07.3.log.gz\n",
      "data\\siri\\2018-11\\siri_rt_data.2018-11-07.4.log.gz\n",
      "data\\siri\\2018-11\\siri_rt_data.2018-11-07.5.log.gz\n",
      "data\\siri\\2018-11\\siri_rt_data.2018-11-07.6.log.gz\n",
      "data\\siri\\2018-11\\siri_rt_data.2018-11-07.7.log.gz\n",
      "data\\siri\\2018-11\\siri_rt_data.2018-11-07.8.log.gz\n",
      "data\\siri\\2018-11\\siri_rt_data.2018-11-07.9.log.gz\n",
      "data\\siri\\2018-11\\siri_rt_data.2018-11-08.0.log.gz\n",
      "data\\siri\\2018-11\\siri_rt_data.2018-11-08.1.log.gz\n",
      "data\\siri\\2018-11\\siri_rt_data.2018-11-08.10.log.gz\n",
      "data\\siri\\2018-11\\siri_rt_data.2018-11-08.11.log.gz\n",
      "data\\siri\\2018-11\\siri_rt_data.2018-11-08.2.log.gz\n",
      "data\\siri\\2018-11\\siri_rt_data.2018-11-08.3.log.gz\n",
      "data\\siri\\2018-11\\siri_rt_data.2018-11-08.4.log.gz\n",
      "data\\siri\\2018-11\\siri_rt_data.2018-11-08.5.log.gz\n",
      "data\\siri\\2018-11\\siri_rt_data.2018-11-08.6.log.gz\n",
      "data\\siri\\2018-11\\siri_rt_data.2018-11-08.7.log.gz\n",
      "data\\siri\\2018-11\\siri_rt_data.2018-11-08.8.log.gz\n",
      "data\\siri\\2018-11\\siri_rt_data.2018-11-08.9.log.gz\n",
      "data\\siri\\2018-11\\siri_rt_data.2018-11-09.0.log.gz\n",
      "data\\siri\\2018-11\\siri_rt_data.2018-11-09.1.log.gz\n",
      "data\\siri\\2018-11\\siri_rt_data.2018-11-09.2.log.gz\n",
      "data\\siri\\2018-11\\siri_rt_data.2018-11-09.3.log.gz\n",
      "data\\siri\\2018-11\\siri_rt_data.2018-11-09.4.log.gz\n"
     ]
    }
   ],
   "source": [
    "FOLDER = 'data\\\\siri\\\\2018-11'\n",
    "for file in glob(FOLDER+'/*.log.gz'):\n",
    "    print(file)\n",
    "    df = create_trip_df(file)\n",
    "    bn = os.path.splitext(file)[0]\n",
    "    df.to_parquet(bn + '.parq')\n",
    "    os.remove(file)"
   ]
  },
  {
   "cell_type": "code",
   "execution_count": 9,
   "metadata": {
    "ExecuteTime": {
     "end_time": "2018-11-10T16:55:50.645875Z",
     "start_time": "2018-11-10T16:55:50.494281Z"
    }
   },
   "outputs": [],
   "source": [
    "import sys\n",
    "sys.path.append('C:/dev/ds/open-bus-explore/open-bus/gtfs/retriever')"
   ]
  },
  {
   "cell_type": "code",
   "execution_count": null,
   "metadata": {},
   "outputs": [],
   "source": []
  },
  {
   "cell_type": "code",
   "execution_count": 10,
   "metadata": {
    "ExecuteTime": {
     "end_time": "2018-11-10T16:55:53.633974Z",
     "start_time": "2018-11-10T16:55:52.613027Z"
    }
   },
   "outputs": [],
   "source": [
    "import s3_wrapper\n",
    "\n",
    "aki = 'P6OMDOFWYCQNTWE7XEPR'\n",
    "sak = 'glx9UFBOBNQCtYqSWIUW5OKWyhn9CedVb5tn7La5u6I'\n",
    "bucket = 'obus-do1'"
   ]
  },
  {
   "cell_type": "code",
   "execution_count": 12,
   "metadata": {
    "ExecuteTime": {
     "end_time": "2018-11-10T16:59:09.964622Z",
     "start_time": "2018-11-10T16:59:06.809512Z"
    }
   },
   "outputs": [
    {
     "data": {
      "text/plain": [
       "['siri_logs/2018/11/02/siri_rt_data.2018-11-02.0.log.gz',\n",
       " 'siri_logs/2018/11/03/siri_rt_data.2018-11-03.0.log.gz',\n",
       " 'siri_logs/2018/11/03/siri_rt_data.2018-11-03.1.log.gz',\n",
       " 'siri_logs/2018/11/04/siri_rt_data.2018-11-04.0.log.gz',\n",
       " 'siri_logs/2018/11/04/siri_rt_data.2018-11-04.1.log.gz',\n",
       " 'siri_logs/2018/11/04/siri_rt_data.2018-11-04.10.log.gz',\n",
       " 'siri_logs/2018/11/04/siri_rt_data.2018-11-04.11.log.gz',\n",
       " 'siri_logs/2018/11/04/siri_rt_data.2018-11-04.2.log.gz',\n",
       " 'siri_logs/2018/11/04/siri_rt_data.2018-11-04.3.log.gz',\n",
       " 'siri_logs/2018/11/04/siri_rt_data.2018-11-04.4.log.gz',\n",
       " 'siri_logs/2018/11/04/siri_rt_data.2018-11-04.5.log.gz',\n",
       " 'siri_logs/2018/11/04/siri_rt_data.2018-11-04.6.log.gz',\n",
       " 'siri_logs/2018/11/04/siri_rt_data.2018-11-04.7.log.gz',\n",
       " 'siri_logs/2018/11/04/siri_rt_data.2018-11-04.8.log.gz',\n",
       " 'siri_logs/2018/11/04/siri_rt_data.2018-11-04.9.log.gz',\n",
       " 'siri_logs/2018/11/05/siri_rt_data.2018-11-05.0.log.gz',\n",
       " 'siri_logs/2018/11/05/siri_rt_data.2018-11-05.1.log.gz',\n",
       " 'siri_logs/2018/11/05/siri_rt_data.2018-11-05.10.log.gz',\n",
       " 'siri_logs/2018/11/05/siri_rt_data.2018-11-05.11.log.gz',\n",
       " 'siri_logs/2018/11/05/siri_rt_data.2018-11-05.2.log.gz',\n",
       " 'siri_logs/2018/11/05/siri_rt_data.2018-11-05.3.log.gz',\n",
       " 'siri_logs/2018/11/05/siri_rt_data.2018-11-05.4.log.gz',\n",
       " 'siri_logs/2018/11/05/siri_rt_data.2018-11-05.5.log.gz',\n",
       " 'siri_logs/2018/11/05/siri_rt_data.2018-11-05.6.log.gz',\n",
       " 'siri_logs/2018/11/05/siri_rt_data.2018-11-05.7.log.gz',\n",
       " 'siri_logs/2018/11/05/siri_rt_data.2018-11-05.8.log.gz',\n",
       " 'siri_logs/2018/11/05/siri_rt_data.2018-11-05.9.log.gz',\n",
       " 'siri_logs/2018/11/06/siri_rt_data.2018-11-06.0.log.gz',\n",
       " 'siri_logs/2018/11/06/siri_rt_data.2018-11-06.1.log.gz',\n",
       " 'siri_logs/2018/11/06/siri_rt_data.2018-11-06.10.log.gz',\n",
       " 'siri_logs/2018/11/06/siri_rt_data.2018-11-06.11.log.gz',\n",
       " 'siri_logs/2018/11/06/siri_rt_data.2018-11-06.2.log.gz',\n",
       " 'siri_logs/2018/11/06/siri_rt_data.2018-11-06.3.log.gz',\n",
       " 'siri_logs/2018/11/06/siri_rt_data.2018-11-06.4.log.gz',\n",
       " 'siri_logs/2018/11/06/siri_rt_data.2018-11-06.5.log.gz',\n",
       " 'siri_logs/2018/11/06/siri_rt_data.2018-11-06.6.log.gz',\n",
       " 'siri_logs/2018/11/06/siri_rt_data.2018-11-06.7.log.gz',\n",
       " 'siri_logs/2018/11/06/siri_rt_data.2018-11-06.8.log.gz',\n",
       " 'siri_logs/2018/11/06/siri_rt_data.2018-11-06.9.log.gz',\n",
       " 'siri_logs/2018/11/07/siri_rt_data.2018-11-07.0.log.gz',\n",
       " 'siri_logs/2018/11/07/siri_rt_data.2018-11-07.1.log.gz',\n",
       " 'siri_logs/2018/11/07/siri_rt_data.2018-11-07.10.log.gz',\n",
       " 'siri_logs/2018/11/07/siri_rt_data.2018-11-07.11.log.gz',\n",
       " 'siri_logs/2018/11/07/siri_rt_data.2018-11-07.2.log.gz',\n",
       " 'siri_logs/2018/11/07/siri_rt_data.2018-11-07.3.log.gz',\n",
       " 'siri_logs/2018/11/07/siri_rt_data.2018-11-07.4.log.gz',\n",
       " 'siri_logs/2018/11/07/siri_rt_data.2018-11-07.5.log.gz',\n",
       " 'siri_logs/2018/11/07/siri_rt_data.2018-11-07.6.log.gz',\n",
       " 'siri_logs/2018/11/07/siri_rt_data.2018-11-07.7.log.gz',\n",
       " 'siri_logs/2018/11/07/siri_rt_data.2018-11-07.8.log.gz',\n",
       " 'siri_logs/2018/11/07/siri_rt_data.2018-11-07.9.log.gz',\n",
       " 'siri_logs/2018/11/08/siri_rt_data.2018-11-08.0.log.gz',\n",
       " 'siri_logs/2018/11/08/siri_rt_data.2018-11-08.1.log.gz',\n",
       " 'siri_logs/2018/11/08/siri_rt_data.2018-11-08.10.log.gz',\n",
       " 'siri_logs/2018/11/08/siri_rt_data.2018-11-08.11.log.gz',\n",
       " 'siri_logs/2018/11/08/siri_rt_data.2018-11-08.2.log.gz',\n",
       " 'siri_logs/2018/11/08/siri_rt_data.2018-11-08.3.log.gz',\n",
       " 'siri_logs/2018/11/08/siri_rt_data.2018-11-08.4.log.gz',\n",
       " 'siri_logs/2018/11/08/siri_rt_data.2018-11-08.5.log.gz',\n",
       " 'siri_logs/2018/11/08/siri_rt_data.2018-11-08.6.log.gz',\n",
       " 'siri_logs/2018/11/08/siri_rt_data.2018-11-08.7.log.gz',\n",
       " 'siri_logs/2018/11/08/siri_rt_data.2018-11-08.8.log.gz',\n",
       " 'siri_logs/2018/11/08/siri_rt_data.2018-11-08.9.log.gz',\n",
       " 'siri_logs/2018/11/09/siri_rt_data.2018-11-09.0.log.gz',\n",
       " 'siri_logs/2018/11/09/siri_rt_data.2018-11-09.1.log.gz',\n",
       " 'siri_logs/2018/11/09/siri_rt_data.2018-11-09.2.log.gz',\n",
       " 'siri_logs/2018/11/09/siri_rt_data.2018-11-09.3.log.gz',\n",
       " 'siri_logs/2018/11/09/siri_rt_data.2018-11-09.4.log.gz']"
      ]
     },
     "execution_count": 12,
     "metadata": {},
     "output_type": "execute_result"
    }
   ],
   "source": [
    "crud = s3_wrapper.S3Crud(aki, sak, bucket)\n",
    "s3_wrapper.list_content(crud, regex_argument='(.*\\.2018-11-0[2-9]\\..*)')"
   ]
  },
  {
   "cell_type": "code",
   "execution_count": 16,
   "metadata": {
    "ExecuteTime": {
     "end_time": "2018-11-10T17:25:15.295055Z",
     "start_time": "2018-11-10T16:59:42.993329Z"
    }
   },
   "outputs": [
    {
     "name": "stdout",
     "output_type": "stream",
     "text": [
      "Downloading siri_rt_data.2018-11-02.0.log.gz\n",
      "Downloading siri_rt_data.2018-11-03.0.log.gz\n",
      "Downloading siri_rt_data.2018-11-03.1.log.gz\n",
      "Downloading siri_rt_data.2018-11-04.0.log.gz\n",
      "Downloading siri_rt_data.2018-11-04.1.log.gz\n",
      "Downloading siri_rt_data.2018-11-04.10.log.gz\n",
      "Downloading siri_rt_data.2018-11-04.11.log.gz\n",
      "Downloading siri_rt_data.2018-11-04.2.log.gz\n",
      "Downloading siri_rt_data.2018-11-04.3.log.gz\n",
      "Downloading siri_rt_data.2018-11-04.4.log.gz\n",
      "Downloading siri_rt_data.2018-11-04.5.log.gz\n",
      "Downloading siri_rt_data.2018-11-04.6.log.gz\n",
      "Downloading siri_rt_data.2018-11-04.7.log.gz\n",
      "Downloading siri_rt_data.2018-11-04.8.log.gz\n",
      "Downloading siri_rt_data.2018-11-04.9.log.gz\n",
      "Downloading siri_rt_data.2018-11-05.0.log.gz\n",
      "Downloading siri_rt_data.2018-11-05.1.log.gz\n",
      "Downloading siri_rt_data.2018-11-05.10.log.gz\n",
      "Downloading siri_rt_data.2018-11-05.11.log.gz\n",
      "Downloading siri_rt_data.2018-11-05.2.log.gz\n",
      "Downloading siri_rt_data.2018-11-05.3.log.gz\n",
      "Downloading siri_rt_data.2018-11-05.4.log.gz\n",
      "Downloading siri_rt_data.2018-11-05.5.log.gz\n",
      "Downloading siri_rt_data.2018-11-05.6.log.gz\n",
      "Downloading siri_rt_data.2018-11-05.7.log.gz\n",
      "Downloading siri_rt_data.2018-11-05.8.log.gz\n",
      "Downloading siri_rt_data.2018-11-05.9.log.gz\n",
      "Downloading siri_rt_data.2018-11-06.0.log.gz\n",
      "Downloading siri_rt_data.2018-11-06.1.log.gz\n",
      "Downloading siri_rt_data.2018-11-06.10.log.gz\n",
      "Downloading siri_rt_data.2018-11-06.11.log.gz\n",
      "Downloading siri_rt_data.2018-11-06.2.log.gz\n",
      "Downloading siri_rt_data.2018-11-06.3.log.gz\n",
      "Downloading siri_rt_data.2018-11-06.4.log.gz\n",
      "Downloading siri_rt_data.2018-11-06.5.log.gz\n",
      "Downloading siri_rt_data.2018-11-06.6.log.gz\n",
      "Downloading siri_rt_data.2018-11-06.7.log.gz\n",
      "Downloading siri_rt_data.2018-11-06.8.log.gz\n",
      "Downloading siri_rt_data.2018-11-06.9.log.gz\n",
      "Downloading siri_rt_data.2018-11-07.0.log.gz\n",
      "Downloading siri_rt_data.2018-11-07.1.log.gz\n",
      "Downloading siri_rt_data.2018-11-07.10.log.gz\n",
      "Downloading siri_rt_data.2018-11-07.11.log.gz\n",
      "Downloading siri_rt_data.2018-11-07.2.log.gz\n",
      "Downloading siri_rt_data.2018-11-07.3.log.gz\n",
      "Downloading siri_rt_data.2018-11-07.4.log.gz\n",
      "Downloading siri_rt_data.2018-11-07.5.log.gz\n",
      "Downloading siri_rt_data.2018-11-07.6.log.gz\n",
      "Downloading siri_rt_data.2018-11-07.7.log.gz\n",
      "Downloading siri_rt_data.2018-11-07.8.log.gz\n",
      "Downloading siri_rt_data.2018-11-07.9.log.gz\n",
      "Downloading siri_rt_data.2018-11-08.0.log.gz\n",
      "Downloading siri_rt_data.2018-11-08.1.log.gz\n",
      "Downloading siri_rt_data.2018-11-08.10.log.gz\n",
      "Downloading siri_rt_data.2018-11-08.11.log.gz\n",
      "Downloading siri_rt_data.2018-11-08.2.log.gz\n",
      "Downloading siri_rt_data.2018-11-08.3.log.gz\n",
      "Downloading siri_rt_data.2018-11-08.4.log.gz\n",
      "Downloading siri_rt_data.2018-11-08.5.log.gz\n",
      "Downloading siri_rt_data.2018-11-08.6.log.gz\n",
      "Downloading siri_rt_data.2018-11-08.7.log.gz\n",
      "Downloading siri_rt_data.2018-11-08.8.log.gz\n",
      "Downloading siri_rt_data.2018-11-08.9.log.gz\n",
      "Downloading siri_rt_data.2018-11-09.0.log.gz\n",
      "Downloading siri_rt_data.2018-11-09.1.log.gz\n",
      "Downloading siri_rt_data.2018-11-09.2.log.gz\n",
      "Downloading siri_rt_data.2018-11-09.3.log.gz\n",
      "Downloading siri_rt_data.2018-11-09.4.log.gz\n"
     ]
    }
   ],
   "source": [
    "FOLDER = 'data\\\\siri\\\\2018-11'\n",
    "#os.mkdir(FOLDER)\n",
    "for k in s3_wrapper.list_content(crud, regex_argument='(.*\\.2018-11-0[2-9]\\..*)'):\n",
    "    file_name = k.split('/')[-1]\n",
    "    output_path = os.path.join(FOLDER, file_name)\n",
    "    if not os.path.exists(output_path):\n",
    "        print (f'Downloading {file_name}')\n",
    "        s3_wrapper.download(crud, output_path, k)\n",
    "    "
   ]
  },
  {
   "cell_type": "code",
   "execution_count": null,
   "metadata": {},
   "outputs": [],
   "source": []
  }
 ],
 "metadata": {
  "kernelspec": {
   "display_name": "Python 3",
   "language": "python",
   "name": "python3"
  },
  "language_info": {
   "codemirror_mode": {
    "name": "ipython",
    "version": 3
   },
   "file_extension": ".py",
   "mimetype": "text/x-python",
   "name": "python",
   "nbconvert_exporter": "python",
   "pygments_lexer": "ipython3",
   "version": "3.6.3"
  },
  "toc": {
   "base_numbering": 1,
   "nav_menu": {},
   "number_sections": true,
   "sideBar": true,
   "skip_h1_title": false,
   "title_cell": "Table of Contents",
   "title_sidebar": "Contents",
   "toc_cell": false,
   "toc_position": {},
   "toc_section_display": true,
   "toc_window_display": false
  }
 },
 "nbformat": 4,
 "nbformat_minor": 2
}
