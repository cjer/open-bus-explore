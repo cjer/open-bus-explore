{
 "cells": [
  {
   "cell_type": "code",
   "execution_count": 1,
   "metadata": {
    "ExecuteTime": {
     "end_time": "2018-09-17T21:58:50.065085Z",
     "start_time": "2018-09-17T21:58:49.565203Z"
    }
   },
   "outputs": [],
   "source": [
    "# Put these at the top of every notebook, to get automatic reloading and inline plotting\n",
    "%reload_ext autoreload\n",
    "%autoreload 2\n",
    "%matplotlib inline"
   ]
  },
  {
   "cell_type": "code",
   "execution_count": 2,
   "metadata": {
    "ExecuteTime": {
     "end_time": "2018-09-17T21:58:51.642840Z",
     "start_time": "2018-09-17T21:58:50.065085Z"
    }
   },
   "outputs": [],
   "source": [
    "import pandas as pd\n",
    "import partridge as ptg\n",
    "import matplotlib.pyplot as plt\n",
    "import seaborn as sns\n",
    "import altair as alt\n",
    "import datetime\n",
    "import numpy as np\n",
    "\n",
    "import gtfs_utils\n",
    "\n",
    "alt.renderers.enable('notebook')\n",
    "alt.data_transformers.enable('json')\n",
    "\n",
    "sns.set_style(\"white\")\n",
    "sns.set_context(\"talk\")\n",
    "sns.set_palette('Set2', 10)"
   ]
  },
  {
   "cell_type": "code",
   "execution_count": 3,
   "metadata": {
    "ExecuteTime": {
     "end_time": "2018-09-17T21:58:51.845917Z",
     "start_time": "2018-09-17T21:58:51.642840Z"
    }
   },
   "outputs": [],
   "source": [
    "import gzip\n",
    "\n",
    "def parse_trips(path):\n",
    "    trip = []\n",
    "    with gzip.open(path) as f:\n",
    "        lines = f.read().strip().splitlines()\n",
    "        data = [line.split(b',')[2:] for line in lines if line]\n",
    "    f.close()\n",
    "    for line in data:\n",
    "        line = [element.decode(\"utf-8\") for element in line]\n",
    "        trip.append({\"agency\": line[0], \"route_id\": line[1], \"line_num\": line[2]\n",
    "                        , \"service_id\": line[3], \"start_time\": line[4], \"bus_id\": line[5],\n",
    "                     \"end_time\": line[6], \"time_recorded\": line[7],\n",
    "                     \"coordinates\": (line[8], line[9])})\n",
    "\n",
    "    return trip"
   ]
  },
  {
   "cell_type": "code",
   "execution_count": 4,
   "metadata": {
    "ExecuteTime": {
     "end_time": "2018-09-17T21:58:52.064617Z",
     "start_time": "2018-09-17T21:58:51.845917Z"
    }
   },
   "outputs": [],
   "source": [
    "from os.path import join"
   ]
  },
  {
   "cell_type": "code",
   "execution_count": 5,
   "metadata": {
    "ExecuteTime": {
     "end_time": "2018-09-17T21:58:52.298936Z",
     "start_time": "2018-09-17T21:58:52.064617Z"
    }
   },
   "outputs": [],
   "source": [
    "import re\n",
    "import datetime"
   ]
  },
  {
   "cell_type": "code",
   "execution_count": 6,
   "metadata": {
    "ExecuteTime": {
     "end_time": "2018-09-17T21:58:52.970653Z",
     "start_time": "2018-09-17T21:58:52.736336Z"
    }
   },
   "outputs": [],
   "source": [
    "def single_timestr_to_seconds(x, *, inverse=False, mod24=False, only_mins=False):\n",
    "    \"\"\"\n",
    "    Given an HH:MM:SS time string ``x``, return the number of seconds\n",
    "    past midnight that it represents.\n",
    "    In keeping with GTFS standards, the hours entry may be greater than\n",
    "    23.\n",
    "    If ``mod24``, then return the number of seconds modulo ``24*3600``.\n",
    "    If ``inverse``, then do the inverse operation.\n",
    "    In this case, if ``mod24`` also, then first take the number of\n",
    "    seconds modulo ``24*3600``.\n",
    "    \"\"\"\n",
    "    if not inverse:\n",
    "        try:\n",
    "            if not only_mins:\n",
    "                hours, mins, seconds = x.split(\":\")\n",
    "                result = int(hours) * 3600 + int(mins) * 60 + int(seconds)\n",
    "            else:\n",
    "                hours, mins = x.split(\":\")\n",
    "            if mod24:\n",
    "                result %= 24 * 3600\n",
    "        except:\n",
    "            result = np.nan\n",
    "    else:\n",
    "        try:\n",
    "            seconds = int(x)\n",
    "            if mod24:\n",
    "                seconds %= 24 * 3600\n",
    "            hours, remainder = divmod(seconds, 3600)\n",
    "            mins, secs = divmod(remainder, 60)\n",
    "            result = \"{:02d}:{:02d}:{:02d}\".format(hours, mins, secs)\n",
    "        except:\n",
    "            result = np.nan\n",
    "    return result"
   ]
  },
  {
   "cell_type": "code",
   "execution_count": 7,
   "metadata": {
    "ExecuteTime": {
     "end_time": "2018-09-17T21:58:53.236216Z",
     "start_time": "2018-09-17T21:58:53.017519Z"
    }
   },
   "outputs": [],
   "source": [
    "def timestr_to_seconds(x, *, only_mins=False):\n",
    "    try:\n",
    "        hms = x.str.split(':', expand=True)\n",
    "        if not only_mins:\n",
    "            result = hms.iloc[:,0].astype(int) * 3600 + hms.iloc[:,1].astype(int) * 60 + hms.iloc[:,2].astype(int)\n",
    "        else:\n",
    "            result = hms.iloc[:,0].astype(int) * 3600 + hms.iloc[:,1].astype(int) * 60\n",
    "    except:\n",
    "        result = np.nan\n",
    "\n",
    "    return result"
   ]
  },
  {
   "cell_type": "code",
   "execution_count": 14,
   "metadata": {
    "ExecuteTime": {
     "end_time": "2018-09-17T21:59:48.457653Z",
     "start_time": "2018-09-17T21:59:48.286127Z"
    }
   },
   "outputs": [],
   "source": [
    "def create_trip_df(path):\n",
    "    df = pd.DataFrame(parse_trips(path))\n",
    "    date = datetime.datetime.strptime(re.findall('siri_rt_data\\\\.([^\\\\.]+)\\\\.\\\\d+\\\\.log', path)[0], '%Y-%m-%d')\n",
    "    df[['lat', 'lon']] = pd.DataFrame(df.coordinates.values.tolist()).astype(float)\n",
    "    df = (df.drop('coordinates', axis=1)\n",
    "          .assign(agency = lambda x: x.agency.astype(int))\n",
    "          .assign(service_id = lambda x: x.service_id.astype(int))\n",
    "          .assign(route_id = lambda x: x.route_id.astype(int))\n",
    "          .assign(start_time = lambda x: timestr_to_seconds(x.start_time, only_mins=True))\n",
    "          .assign(end_time = lambda x: timestr_to_seconds(x.end_time, only_mins=True))\n",
    "          .assign(time_recorded = lambda x: timestr_to_seconds(x.time_recorded))\n",
    "          .assign(date = date)\n",
    "         )\n",
    "    return df"
   ]
  },
  {
   "cell_type": "code",
   "execution_count": 15,
   "metadata": {
    "ExecuteTime": {
     "end_time": "2018-09-17T21:59:48.645111Z",
     "start_time": "2018-09-17T21:59:48.473275Z"
    }
   },
   "outputs": [],
   "source": [
    "FOLDER = 'data\\\\siri\\\\2018-08'\n",
    "file = 'siri_rt_data.2018-08-01.0.log.gz'"
   ]
  },
  {
   "cell_type": "code",
   "execution_count": 16,
   "metadata": {
    "ExecuteTime": {
     "end_time": "2018-09-17T22:00:07.671934Z",
     "start_time": "2018-09-17T21:59:48.645111Z"
    }
   },
   "outputs": [],
   "source": [
    "df = create_trip_df(join(FOLDER, file))"
   ]
  },
  {
   "cell_type": "code",
   "execution_count": 17,
   "metadata": {
    "ExecuteTime": {
     "end_time": "2018-09-17T22:00:07.859351Z",
     "start_time": "2018-09-17T22:00:07.671934Z"
    }
   },
   "outputs": [
    {
     "data": {
      "text/html": [
       "<div>\n",
       "<style scoped>\n",
       "    .dataframe tbody tr th:only-of-type {\n",
       "        vertical-align: middle;\n",
       "    }\n",
       "\n",
       "    .dataframe tbody tr th {\n",
       "        vertical-align: top;\n",
       "    }\n",
       "\n",
       "    .dataframe thead th {\n",
       "        text-align: right;\n",
       "    }\n",
       "</style>\n",
       "<table border=\"1\" class=\"dataframe\">\n",
       "  <thead>\n",
       "    <tr style=\"text-align: right;\">\n",
       "      <th></th>\n",
       "      <th>agency</th>\n",
       "      <th>bus_id</th>\n",
       "      <th>end_time</th>\n",
       "      <th>line_num</th>\n",
       "      <th>route_id</th>\n",
       "      <th>service_id</th>\n",
       "      <th>start_time</th>\n",
       "      <th>time_recorded</th>\n",
       "      <th>lat</th>\n",
       "      <th>lon</th>\n",
       "      <th>date</th>\n",
       "    </tr>\n",
       "  </thead>\n",
       "  <tbody>\n",
       "    <tr>\n",
       "      <th>0</th>\n",
       "      <td>5</td>\n",
       "      <td>7591</td>\n",
       "      <td>660</td>\n",
       "      <td>19</td>\n",
       "      <td>2340</td>\n",
       "      <td>33441985</td>\n",
       "      <td>84300</td>\n",
       "      <td>86348</td>\n",
       "      <td>32.035385</td>\n",
       "      <td>34.767807</td>\n",
       "      <td>2018-08-01</td>\n",
       "    </tr>\n",
       "    <tr>\n",
       "      <th>1</th>\n",
       "      <td>5</td>\n",
       "      <td>7666</td>\n",
       "      <td>2340</td>\n",
       "      <td>19</td>\n",
       "      <td>2340</td>\n",
       "      <td>33643429</td>\n",
       "      <td>0</td>\n",
       "      <td>86109</td>\n",
       "      <td>0.000000</td>\n",
       "      <td>0.000000</td>\n",
       "      <td>2018-08-01</td>\n",
       "    </tr>\n",
       "    <tr>\n",
       "      <th>2</th>\n",
       "      <td>5</td>\n",
       "      <td>10196</td>\n",
       "      <td>300</td>\n",
       "      <td>16</td>\n",
       "      <td>2323</td>\n",
       "      <td>33425076</td>\n",
       "      <td>84000</td>\n",
       "      <td>86372</td>\n",
       "      <td>32.045105</td>\n",
       "      <td>34.809189</td>\n",
       "      <td>2018-08-01</td>\n",
       "    </tr>\n",
       "    <tr>\n",
       "      <th>3</th>\n",
       "      <td>5</td>\n",
       "      <td>7853</td>\n",
       "      <td>1200</td>\n",
       "      <td>16</td>\n",
       "      <td>2323</td>\n",
       "      <td>33425077</td>\n",
       "      <td>85200</td>\n",
       "      <td>86380</td>\n",
       "      <td>32.055714</td>\n",
       "      <td>34.781860</td>\n",
       "      <td>2018-08-01</td>\n",
       "    </tr>\n",
       "    <tr>\n",
       "      <th>4</th>\n",
       "      <td>5</td>\n",
       "      <td>10159</td>\n",
       "      <td>2100</td>\n",
       "      <td>16</td>\n",
       "      <td>2323</td>\n",
       "      <td>33425078</td>\n",
       "      <td>0</td>\n",
       "      <td>86109</td>\n",
       "      <td>0.000000</td>\n",
       "      <td>0.000000</td>\n",
       "      <td>2018-08-01</td>\n",
       "    </tr>\n",
       "  </tbody>\n",
       "</table>\n",
       "</div>"
      ],
      "text/plain": [
       "   agency bus_id  end_time line_num  route_id  service_id  start_time  \\\n",
       "0       5   7591       660       19      2340    33441985       84300   \n",
       "1       5   7666      2340       19      2340    33643429           0   \n",
       "2       5  10196       300       16      2323    33425076       84000   \n",
       "3       5   7853      1200       16      2323    33425077       85200   \n",
       "4       5  10159      2100       16      2323    33425078           0   \n",
       "\n",
       "   time_recorded        lat        lon       date  \n",
       "0          86348  32.035385  34.767807 2018-08-01  \n",
       "1          86109   0.000000   0.000000 2018-08-01  \n",
       "2          86372  32.045105  34.809189 2018-08-01  \n",
       "3          86380  32.055714  34.781860 2018-08-01  \n",
       "4          86109   0.000000   0.000000 2018-08-01  "
      ]
     },
     "execution_count": 17,
     "metadata": {},
     "output_type": "execute_result"
    }
   ],
   "source": [
    "df.head()"
   ]
  },
  {
   "cell_type": "code",
   "execution_count": 18,
   "metadata": {
    "ExecuteTime": {
     "end_time": "2018-09-17T22:00:08.046807Z",
     "start_time": "2018-09-17T22:00:07.859351Z"
    }
   },
   "outputs": [
    {
     "data": {
      "text/plain": [
       "agency                    int32\n",
       "bus_id                   object\n",
       "end_time                  int32\n",
       "line_num                 object\n",
       "route_id                  int32\n",
       "service_id                int32\n",
       "start_time                int32\n",
       "time_recorded             int32\n",
       "lat                     float64\n",
       "lon                     float64\n",
       "date             datetime64[ns]\n",
       "dtype: object"
      ]
     },
     "execution_count": 18,
     "metadata": {},
     "output_type": "execute_result"
    }
   ],
   "source": [
    "df.dtypes"
   ]
  },
  {
   "cell_type": "code",
   "execution_count": 19,
   "metadata": {
    "ExecuteTime": {
     "end_time": "2018-09-17T22:00:09.077815Z",
     "start_time": "2018-09-17T22:00:08.046807Z"
    }
   },
   "outputs": [],
   "source": [
    "df.to_parquet(join(FOLDER, 'siri_rt_data.2018-08-01.0.parq'))"
   ]
  },
  {
   "cell_type": "code",
   "execution_count": 20,
   "metadata": {
    "ExecuteTime": {
     "end_time": "2018-09-17T22:00:28.542009Z",
     "start_time": "2018-09-17T22:00:28.042124Z"
    }
   },
   "outputs": [],
   "source": [
    "pdf = pd.read_parquet(join(FOLDER, 'siri_rt_data.2018-08-01.0.parq'))"
   ]
  },
  {
   "cell_type": "code",
   "execution_count": 21,
   "metadata": {
    "ExecuteTime": {
     "end_time": "2018-09-17T22:00:29.229384Z",
     "start_time": "2018-09-17T22:00:29.041890Z"
    }
   },
   "outputs": [
    {
     "data": {
      "text/html": [
       "<div>\n",
       "<style scoped>\n",
       "    .dataframe tbody tr th:only-of-type {\n",
       "        vertical-align: middle;\n",
       "    }\n",
       "\n",
       "    .dataframe tbody tr th {\n",
       "        vertical-align: top;\n",
       "    }\n",
       "\n",
       "    .dataframe thead th {\n",
       "        text-align: right;\n",
       "    }\n",
       "</style>\n",
       "<table border=\"1\" class=\"dataframe\">\n",
       "  <thead>\n",
       "    <tr style=\"text-align: right;\">\n",
       "      <th></th>\n",
       "      <th>agency</th>\n",
       "      <th>bus_id</th>\n",
       "      <th>end_time</th>\n",
       "      <th>line_num</th>\n",
       "      <th>route_id</th>\n",
       "      <th>service_id</th>\n",
       "      <th>start_time</th>\n",
       "      <th>time_recorded</th>\n",
       "      <th>lat</th>\n",
       "      <th>lon</th>\n",
       "      <th>date</th>\n",
       "    </tr>\n",
       "  </thead>\n",
       "  <tbody>\n",
       "    <tr>\n",
       "      <th>0</th>\n",
       "      <td>5</td>\n",
       "      <td>7591</td>\n",
       "      <td>660</td>\n",
       "      <td>19</td>\n",
       "      <td>2340</td>\n",
       "      <td>33441985</td>\n",
       "      <td>84300</td>\n",
       "      <td>86348</td>\n",
       "      <td>32.035385</td>\n",
       "      <td>34.767807</td>\n",
       "      <td>2018-08-01</td>\n",
       "    </tr>\n",
       "    <tr>\n",
       "      <th>1</th>\n",
       "      <td>5</td>\n",
       "      <td>7666</td>\n",
       "      <td>2340</td>\n",
       "      <td>19</td>\n",
       "      <td>2340</td>\n",
       "      <td>33643429</td>\n",
       "      <td>0</td>\n",
       "      <td>86109</td>\n",
       "      <td>0.000000</td>\n",
       "      <td>0.000000</td>\n",
       "      <td>2018-08-01</td>\n",
       "    </tr>\n",
       "    <tr>\n",
       "      <th>2</th>\n",
       "      <td>5</td>\n",
       "      <td>10196</td>\n",
       "      <td>300</td>\n",
       "      <td>16</td>\n",
       "      <td>2323</td>\n",
       "      <td>33425076</td>\n",
       "      <td>84000</td>\n",
       "      <td>86372</td>\n",
       "      <td>32.045105</td>\n",
       "      <td>34.809189</td>\n",
       "      <td>2018-08-01</td>\n",
       "    </tr>\n",
       "    <tr>\n",
       "      <th>3</th>\n",
       "      <td>5</td>\n",
       "      <td>7853</td>\n",
       "      <td>1200</td>\n",
       "      <td>16</td>\n",
       "      <td>2323</td>\n",
       "      <td>33425077</td>\n",
       "      <td>85200</td>\n",
       "      <td>86380</td>\n",
       "      <td>32.055714</td>\n",
       "      <td>34.781860</td>\n",
       "      <td>2018-08-01</td>\n",
       "    </tr>\n",
       "    <tr>\n",
       "      <th>4</th>\n",
       "      <td>5</td>\n",
       "      <td>10159</td>\n",
       "      <td>2100</td>\n",
       "      <td>16</td>\n",
       "      <td>2323</td>\n",
       "      <td>33425078</td>\n",
       "      <td>0</td>\n",
       "      <td>86109</td>\n",
       "      <td>0.000000</td>\n",
       "      <td>0.000000</td>\n",
       "      <td>2018-08-01</td>\n",
       "    </tr>\n",
       "  </tbody>\n",
       "</table>\n",
       "</div>"
      ],
      "text/plain": [
       "   agency bus_id  end_time line_num  route_id  service_id  start_time  \\\n",
       "0       5   7591       660       19      2340    33441985       84300   \n",
       "1       5   7666      2340       19      2340    33643429           0   \n",
       "2       5  10196       300       16      2323    33425076       84000   \n",
       "3       5   7853      1200       16      2323    33425077       85200   \n",
       "4       5  10159      2100       16      2323    33425078           0   \n",
       "\n",
       "   time_recorded        lat        lon       date  \n",
       "0          86348  32.035385  34.767807 2018-08-01  \n",
       "1          86109   0.000000   0.000000 2018-08-01  \n",
       "2          86372  32.045105  34.809189 2018-08-01  \n",
       "3          86380  32.055714  34.781860 2018-08-01  \n",
       "4          86109   0.000000   0.000000 2018-08-01  "
      ]
     },
     "execution_count": 21,
     "metadata": {},
     "output_type": "execute_result"
    }
   ],
   "source": [
    "pdf.head()"
   ]
  },
  {
   "cell_type": "code",
   "execution_count": 22,
   "metadata": {
    "ExecuteTime": {
     "end_time": "2018-09-17T22:00:41.070320Z",
     "start_time": "2018-09-17T22:00:40.882903Z"
    }
   },
   "outputs": [
    {
     "data": {
      "text/plain": [
       "agency                    int32\n",
       "bus_id                   object\n",
       "end_time                  int32\n",
       "line_num                 object\n",
       "route_id                  int32\n",
       "service_id                int32\n",
       "start_time                int32\n",
       "time_recorded             int32\n",
       "lat                     float64\n",
       "lon                     float64\n",
       "date             datetime64[ns]\n",
       "dtype: object"
      ]
     },
     "execution_count": 22,
     "metadata": {},
     "output_type": "execute_result"
    }
   ],
   "source": [
    "pdf.dtypes"
   ]
  },
  {
   "cell_type": "code",
   "execution_count": 24,
   "metadata": {
    "ExecuteTime": {
     "end_time": "2018-09-17T23:16:18.800760Z",
     "start_time": "2018-09-17T22:02:26.936139Z"
    }
   },
   "outputs": [
    {
     "name": "stdout",
     "output_type": "stream",
     "text": [
      "data\\siri\\2018-08\\siri_rt_data.2018-08-01.0.log.gz\n",
      "data\\siri\\2018-08\\siri_rt_data.2018-08-01.1.log.gz\n",
      "data\\siri\\2018-08\\siri_rt_data.2018-08-01.2.log.gz\n",
      "data\\siri\\2018-08\\siri_rt_data.2018-08-01.3.log.gz\n",
      "data\\siri\\2018-08\\siri_rt_data.2018-08-01.4.log.gz\n",
      "data\\siri\\2018-08\\siri_rt_data.2018-08-02.0.log.gz\n",
      "data\\siri\\2018-08\\siri_rt_data.2018-08-02.1.log.gz\n",
      "data\\siri\\2018-08\\siri_rt_data.2018-08-02.2.log.gz\n",
      "data\\siri\\2018-08\\siri_rt_data.2018-08-03.0.log.gz\n",
      "data\\siri\\2018-08\\siri_rt_data.2018-08-03.1.log.gz\n",
      "data\\siri\\2018-08\\siri_rt_data.2018-08-03.2.log.gz\n",
      "data\\siri\\2018-08\\siri_rt_data.2018-08-04.0.log.gz\n",
      "data\\siri\\2018-08\\siri_rt_data.2018-08-05.0.log.gz\n",
      "data\\siri\\2018-08\\siri_rt_data.2018-08-05.1.log.gz\n",
      "data\\siri\\2018-08\\siri_rt_data.2018-08-05.2.log.gz\n",
      "data\\siri\\2018-08\\siri_rt_data.2018-08-05.3.log.gz\n",
      "data\\siri\\2018-08\\siri_rt_data.2018-08-06.0.log.gz\n",
      "data\\siri\\2018-08\\siri_rt_data.2018-08-06.1.log.gz\n",
      "data\\siri\\2018-08\\siri_rt_data.2018-08-06.2.log.gz\n",
      "data\\siri\\2018-08\\siri_rt_data.2018-08-06.3.log.gz\n",
      "data\\siri\\2018-08\\siri_rt_data.2018-08-07.0.log.gz\n",
      "data\\siri\\2018-08\\siri_rt_data.2018-08-07.1.log.gz\n",
      "data\\siri\\2018-08\\siri_rt_data.2018-08-07.2.log.gz\n",
      "data\\siri\\2018-08\\siri_rt_data.2018-08-07.3.log.gz\n",
      "data\\siri\\2018-08\\siri_rt_data.2018-08-07.4.log.gz\n",
      "data\\siri\\2018-08\\siri_rt_data.2018-08-08.0.log.gz\n",
      "data\\siri\\2018-08\\siri_rt_data.2018-08-08.1.log.gz\n",
      "data\\siri\\2018-08\\siri_rt_data.2018-08-08.2.log.gz\n",
      "data\\siri\\2018-08\\siri_rt_data.2018-08-08.3.log.gz\n",
      "data\\siri\\2018-08\\siri_rt_data.2018-08-08.4.log.gz\n",
      "data\\siri\\2018-08\\siri_rt_data.2018-08-09.0.log.gz\n",
      "data\\siri\\2018-08\\siri_rt_data.2018-08-09.1.log.gz\n",
      "data\\siri\\2018-08\\siri_rt_data.2018-08-09.2.log.gz\n",
      "data\\siri\\2018-08\\siri_rt_data.2018-08-09.3.log.gz\n",
      "data\\siri\\2018-08\\siri_rt_data.2018-08-09.4.log.gz\n",
      "data\\siri\\2018-08\\siri_rt_data.2018-08-10.0.log.gz\n",
      "data\\siri\\2018-08\\siri_rt_data.2018-08-10.1.log.gz\n",
      "data\\siri\\2018-08\\siri_rt_data.2018-08-10.2.log.gz\n",
      "data\\siri\\2018-08\\siri_rt_data.2018-08-11.0.log.gz\n",
      "data\\siri\\2018-08\\siri_rt_data.2018-08-12.0.log.gz\n",
      "data\\siri\\2018-08\\siri_rt_data.2018-08-12.1.log.gz\n",
      "data\\siri\\2018-08\\siri_rt_data.2018-08-12.2.log.gz\n",
      "data\\siri\\2018-08\\siri_rt_data.2018-08-12.3.log.gz\n",
      "data\\siri\\2018-08\\siri_rt_data.2018-08-12.4.log.gz\n",
      "data\\siri\\2018-08\\siri_rt_data.2018-08-13.0.log.gz\n",
      "data\\siri\\2018-08\\siri_rt_data.2018-08-13.1.log.gz\n",
      "data\\siri\\2018-08\\siri_rt_data.2018-08-13.2.log.gz\n",
      "data\\siri\\2018-08\\siri_rt_data.2018-08-13.3.log.gz\n",
      "data\\siri\\2018-08\\siri_rt_data.2018-08-13.4.log.gz\n",
      "data\\siri\\2018-08\\siri_rt_data.2018-08-14.0.log.gz\n",
      "data\\siri\\2018-08\\siri_rt_data.2018-08-14.1.log.gz\n",
      "data\\siri\\2018-08\\siri_rt_data.2018-08-14.2.log.gz\n",
      "data\\siri\\2018-08\\siri_rt_data.2018-08-14.3.log.gz\n",
      "data\\siri\\2018-08\\siri_rt_data.2018-08-14.4.log.gz\n",
      "data\\siri\\2018-08\\siri_rt_data.2018-08-14.5.log.gz\n",
      "data\\siri\\2018-08\\siri_rt_data.2018-08-15.0.log.gz\n",
      "data\\siri\\2018-08\\siri_rt_data.2018-08-15.1.log.gz\n",
      "data\\siri\\2018-08\\siri_rt_data.2018-08-15.2.log.gz\n",
      "data\\siri\\2018-08\\siri_rt_data.2018-08-15.3.log.gz\n",
      "data\\siri\\2018-08\\siri_rt_data.2018-08-15.4.log.gz\n",
      "data\\siri\\2018-08\\siri_rt_data.2018-08-15.5.log.gz\n",
      "data\\siri\\2018-08\\siri_rt_data.2018-08-15.6.log.gz\n",
      "data\\siri\\2018-08\\siri_rt_data.2018-08-16.0.log.gz\n",
      "data\\siri\\2018-08\\siri_rt_data.2018-08-16.1.log.gz\n",
      "data\\siri\\2018-08\\siri_rt_data.2018-08-16.2.log.gz\n",
      "data\\siri\\2018-08\\siri_rt_data.2018-08-16.3.log.gz\n",
      "data\\siri\\2018-08\\siri_rt_data.2018-08-16.4.log.gz\n",
      "data\\siri\\2018-08\\siri_rt_data.2018-08-16.5.log.gz\n",
      "data\\siri\\2018-08\\siri_rt_data.2018-08-16.6.log.gz\n",
      "data\\siri\\2018-08\\siri_rt_data.2018-08-17.0.log.gz\n",
      "data\\siri\\2018-08\\siri_rt_data.2018-08-17.1.log.gz\n",
      "data\\siri\\2018-08\\siri_rt_data.2018-08-17.2.log.gz\n",
      "data\\siri\\2018-08\\siri_rt_data.2018-08-17.3.log.gz\n",
      "data\\siri\\2018-08\\siri_rt_data.2018-08-17.4.log.gz\n",
      "data\\siri\\2018-08\\siri_rt_data.2018-08-17.5.log.gz\n",
      "data\\siri\\2018-08\\siri_rt_data.2018-08-18.0.log.gz\n",
      "data\\siri\\2018-08\\siri_rt_data.2018-08-18.1.log.gz\n",
      "data\\siri\\2018-08\\siri_rt_data.2018-08-19.0.log.gz\n",
      "data\\siri\\2018-08\\siri_rt_data.2018-08-19.1.log.gz\n",
      "data\\siri\\2018-08\\siri_rt_data.2018-08-19.2.log.gz\n",
      "data\\siri\\2018-08\\siri_rt_data.2018-08-19.3.log.gz\n",
      "data\\siri\\2018-08\\siri_rt_data.2018-08-19.4.log.gz\n",
      "data\\siri\\2018-08\\siri_rt_data.2018-08-19.5.log.gz\n",
      "data\\siri\\2018-08\\siri_rt_data.2018-08-19.6.log.gz\n",
      "data\\siri\\2018-08\\siri_rt_data.2018-08-20.0.log.gz\n",
      "data\\siri\\2018-08\\siri_rt_data.2018-08-20.1.log.gz\n",
      "data\\siri\\2018-08\\siri_rt_data.2018-08-20.2.log.gz\n",
      "data\\siri\\2018-08\\siri_rt_data.2018-08-20.3.log.gz\n",
      "data\\siri\\2018-08\\siri_rt_data.2018-08-20.4.log.gz\n",
      "data\\siri\\2018-08\\siri_rt_data.2018-08-20.5.log.gz\n",
      "data\\siri\\2018-08\\siri_rt_data.2018-08-20.6.log.gz\n",
      "data\\siri\\2018-08\\siri_rt_data.2018-08-20.7.log.gz\n",
      "data\\siri\\2018-08\\siri_rt_data.2018-08-20.8.log.gz\n",
      "data\\siri\\2018-08\\siri_rt_data.2018-08-20.9.log.gz\n",
      "data\\siri\\2018-08\\siri_rt_data.2018-08-21.0.log.gz\n",
      "data\\siri\\2018-08\\siri_rt_data.2018-08-21.1.log.gz\n",
      "data\\siri\\2018-08\\siri_rt_data.2018-08-21.10.log.gz\n",
      "data\\siri\\2018-08\\siri_rt_data.2018-08-21.2.log.gz\n",
      "data\\siri\\2018-08\\siri_rt_data.2018-08-21.3.log.gz\n",
      "data\\siri\\2018-08\\siri_rt_data.2018-08-21.4.log.gz\n",
      "data\\siri\\2018-08\\siri_rt_data.2018-08-21.5.log.gz\n",
      "data\\siri\\2018-08\\siri_rt_data.2018-08-21.6.log.gz\n",
      "data\\siri\\2018-08\\siri_rt_data.2018-08-21.7.log.gz\n",
      "data\\siri\\2018-08\\siri_rt_data.2018-08-21.8.log.gz\n",
      "data\\siri\\2018-08\\siri_rt_data.2018-08-21.9.log.gz\n",
      "data\\siri\\2018-08\\siri_rt_data.2018-08-22.0.log.gz\n",
      "data\\siri\\2018-08\\siri_rt_data.2018-08-22.1.log.gz\n",
      "data\\siri\\2018-08\\siri_rt_data.2018-08-22.10.log.gz\n",
      "data\\siri\\2018-08\\siri_rt_data.2018-08-22.2.log.gz\n",
      "data\\siri\\2018-08\\siri_rt_data.2018-08-22.3.log.gz\n",
      "data\\siri\\2018-08\\siri_rt_data.2018-08-22.4.log.gz\n",
      "data\\siri\\2018-08\\siri_rt_data.2018-08-22.5.log.gz\n",
      "data\\siri\\2018-08\\siri_rt_data.2018-08-22.6.log.gz\n",
      "data\\siri\\2018-08\\siri_rt_data.2018-08-22.7.log.gz\n",
      "data\\siri\\2018-08\\siri_rt_data.2018-08-22.8.log.gz\n",
      "data\\siri\\2018-08\\siri_rt_data.2018-08-22.9.log.gz\n",
      "data\\siri\\2018-08\\siri_rt_data.2018-08-23.0.log.gz\n",
      "data\\siri\\2018-08\\siri_rt_data.2018-08-23.1.log.gz\n",
      "data\\siri\\2018-08\\siri_rt_data.2018-08-23.10.log.gz\n",
      "data\\siri\\2018-08\\siri_rt_data.2018-08-23.2.log.gz\n",
      "data\\siri\\2018-08\\siri_rt_data.2018-08-23.3.log.gz\n",
      "data\\siri\\2018-08\\siri_rt_data.2018-08-23.4.log.gz\n",
      "data\\siri\\2018-08\\siri_rt_data.2018-08-23.5.log.gz\n",
      "data\\siri\\2018-08\\siri_rt_data.2018-08-23.6.log.gz\n",
      "data\\siri\\2018-08\\siri_rt_data.2018-08-23.7.log.gz\n",
      "data\\siri\\2018-08\\siri_rt_data.2018-08-23.8.log.gz\n",
      "data\\siri\\2018-08\\siri_rt_data.2018-08-23.9.log.gz\n",
      "data\\siri\\2018-08\\siri_rt_data.2018-08-24.0.log.gz\n",
      "data\\siri\\2018-08\\siri_rt_data.2018-08-24.1.log.gz\n",
      "data\\siri\\2018-08\\siri_rt_data.2018-08-24.2.log.gz\n",
      "data\\siri\\2018-08\\siri_rt_data.2018-08-24.3.log.gz\n",
      "data\\siri\\2018-08\\siri_rt_data.2018-08-24.4.log.gz\n",
      "data\\siri\\2018-08\\siri_rt_data.2018-08-24.5.log.gz\n",
      "data\\siri\\2018-08\\siri_rt_data.2018-08-24.6.log.gz\n",
      "data\\siri\\2018-08\\siri_rt_data.2018-08-25.0.log.gz\n",
      "data\\siri\\2018-08\\siri_rt_data.2018-08-25.1.log.gz\n",
      "data\\siri\\2018-08\\siri_rt_data.2018-08-26.0.log.gz\n",
      "data\\siri\\2018-08\\siri_rt_data.2018-08-26.1.log.gz\n",
      "data\\siri\\2018-08\\siri_rt_data.2018-08-26.10.log.gz\n",
      "data\\siri\\2018-08\\siri_rt_data.2018-08-26.11.log.gz\n",
      "data\\siri\\2018-08\\siri_rt_data.2018-08-26.12.log.gz\n",
      "data\\siri\\2018-08\\siri_rt_data.2018-08-26.2.log.gz\n",
      "data\\siri\\2018-08\\siri_rt_data.2018-08-26.3.log.gz\n",
      "data\\siri\\2018-08\\siri_rt_data.2018-08-26.4.log.gz\n",
      "data\\siri\\2018-08\\siri_rt_data.2018-08-26.5.log.gz\n",
      "data\\siri\\2018-08\\siri_rt_data.2018-08-26.6.log.gz\n",
      "data\\siri\\2018-08\\siri_rt_data.2018-08-26.7.log.gz\n",
      "data\\siri\\2018-08\\siri_rt_data.2018-08-26.8.log.gz\n",
      "data\\siri\\2018-08\\siri_rt_data.2018-08-26.9.log.gz\n",
      "data\\siri\\2018-08\\siri_rt_data.2018-08-27.0.log.gz\n",
      "data\\siri\\2018-08\\siri_rt_data.2018-08-27.1.log.gz\n",
      "data\\siri\\2018-08\\siri_rt_data.2018-08-27.10.log.gz\n",
      "data\\siri\\2018-08\\siri_rt_data.2018-08-27.11.log.gz\n",
      "data\\siri\\2018-08\\siri_rt_data.2018-08-27.12.log.gz\n",
      "data\\siri\\2018-08\\siri_rt_data.2018-08-27.2.log.gz\n",
      "data\\siri\\2018-08\\siri_rt_data.2018-08-27.3.log.gz\n",
      "data\\siri\\2018-08\\siri_rt_data.2018-08-27.4.log.gz\n",
      "data\\siri\\2018-08\\siri_rt_data.2018-08-27.5.log.gz\n",
      "data\\siri\\2018-08\\siri_rt_data.2018-08-27.6.log.gz\n",
      "data\\siri\\2018-08\\siri_rt_data.2018-08-27.7.log.gz\n",
      "data\\siri\\2018-08\\siri_rt_data.2018-08-27.8.log.gz\n"
     ]
    },
    {
     "name": "stdout",
     "output_type": "stream",
     "text": [
      "data\\siri\\2018-08\\siri_rt_data.2018-08-27.9.log.gz\n",
      "data\\siri\\2018-08\\siri_rt_data.2018-08-28.0.log.gz\n",
      "data\\siri\\2018-08\\siri_rt_data.2018-08-28.1.log.gz\n",
      "data\\siri\\2018-08\\siri_rt_data.2018-08-28.10.log.gz\n",
      "data\\siri\\2018-08\\siri_rt_data.2018-08-28.11.log.gz\n",
      "data\\siri\\2018-08\\siri_rt_data.2018-08-28.12.log.gz\n",
      "data\\siri\\2018-08\\siri_rt_data.2018-08-28.2.log.gz\n",
      "data\\siri\\2018-08\\siri_rt_data.2018-08-28.3.log.gz\n",
      "data\\siri\\2018-08\\siri_rt_data.2018-08-28.4.log.gz\n",
      "data\\siri\\2018-08\\siri_rt_data.2018-08-28.5.log.gz\n",
      "data\\siri\\2018-08\\siri_rt_data.2018-08-28.6.log.gz\n",
      "data\\siri\\2018-08\\siri_rt_data.2018-08-28.7.log.gz\n",
      "data\\siri\\2018-08\\siri_rt_data.2018-08-28.8.log.gz\n",
      "data\\siri\\2018-08\\siri_rt_data.2018-08-28.9.log.gz\n",
      "data\\siri\\2018-08\\siri_rt_data.2018-08-29.0.log.gz\n",
      "data\\siri\\2018-08\\siri_rt_data.2018-08-29.1.log.gz\n",
      "data\\siri\\2018-08\\siri_rt_data.2018-08-29.10.log.gz\n",
      "data\\siri\\2018-08\\siri_rt_data.2018-08-29.11.log.gz\n",
      "data\\siri\\2018-08\\siri_rt_data.2018-08-29.12.log.gz\n",
      "data\\siri\\2018-08\\siri_rt_data.2018-08-29.2.log.gz\n",
      "data\\siri\\2018-08\\siri_rt_data.2018-08-29.3.log.gz\n",
      "data\\siri\\2018-08\\siri_rt_data.2018-08-29.4.log.gz\n",
      "data\\siri\\2018-08\\siri_rt_data.2018-08-29.5.log.gz\n",
      "data\\siri\\2018-08\\siri_rt_data.2018-08-29.6.log.gz\n",
      "data\\siri\\2018-08\\siri_rt_data.2018-08-29.7.log.gz\n",
      "data\\siri\\2018-08\\siri_rt_data.2018-08-29.8.log.gz\n",
      "data\\siri\\2018-08\\siri_rt_data.2018-08-29.9.log.gz\n",
      "data\\siri\\2018-08\\siri_rt_data.2018-08-30.0.log.gz\n",
      "data\\siri\\2018-08\\siri_rt_data.2018-08-30.1.log.gz\n",
      "data\\siri\\2018-08\\siri_rt_data.2018-08-30.10.log.gz\n",
      "data\\siri\\2018-08\\siri_rt_data.2018-08-30.11.log.gz\n",
      "data\\siri\\2018-08\\siri_rt_data.2018-08-30.12.log.gz\n",
      "data\\siri\\2018-08\\siri_rt_data.2018-08-30.2.log.gz\n",
      "data\\siri\\2018-08\\siri_rt_data.2018-08-30.3.log.gz\n",
      "data\\siri\\2018-08\\siri_rt_data.2018-08-30.4.log.gz\n",
      "data\\siri\\2018-08\\siri_rt_data.2018-08-30.5.log.gz\n",
      "data\\siri\\2018-08\\siri_rt_data.2018-08-30.6.log.gz\n",
      "data\\siri\\2018-08\\siri_rt_data.2018-08-30.7.log.gz\n",
      "data\\siri\\2018-08\\siri_rt_data.2018-08-30.8.log.gz\n",
      "data\\siri\\2018-08\\siri_rt_data.2018-08-30.9.log.gz\n",
      "data\\siri\\2018-08\\siri_rt_data.2018-08-31.0.log.gz\n",
      "data\\siri\\2018-08\\siri_rt_data.2018-08-31.1.log.gz\n",
      "data\\siri\\2018-08\\siri_rt_data.2018-08-31.2.log.gz\n",
      "data\\siri\\2018-08\\siri_rt_data.2018-08-31.3.log.gz\n",
      "data\\siri\\2018-08\\siri_rt_data.2018-08-31.4.log.gz\n",
      "data\\siri\\2018-08\\siri_rt_data.2018-08-31.5.log.gz\n",
      "data\\siri\\2018-08\\siri_rt_data.2018-08-31.6.log.gz\n"
     ]
    }
   ],
   "source": [
    "from glob import glob\n",
    "import os\n",
    "\n",
    "for file in glob(FOLDER+'/*.log.gz'):\n",
    "    print(file)\n",
    "    df = create_trip_df(file)\n",
    "    bn = os.path.splitext(file)[0]\n",
    "    df.to_parquet(bn + '.parq')"
   ]
  },
  {
   "cell_type": "code",
   "execution_count": null,
   "metadata": {},
   "outputs": [],
   "source": []
  }
 ],
 "metadata": {
  "kernelspec": {
   "display_name": "Python 3",
   "language": "python",
   "name": "python3"
  },
  "language_info": {
   "codemirror_mode": {
    "name": "ipython",
    "version": 3
   },
   "file_extension": ".py",
   "mimetype": "text/x-python",
   "name": "python",
   "nbconvert_exporter": "python",
   "pygments_lexer": "ipython3",
   "version": "3.6.3"
  },
  "toc": {
   "base_numbering": 1,
   "nav_menu": {},
   "number_sections": true,
   "sideBar": true,
   "skip_h1_title": false,
   "title_cell": "Table of Contents",
   "title_sidebar": "Contents",
   "toc_cell": false,
   "toc_position": {},
   "toc_section_display": true,
   "toc_window_display": false
  }
 },
 "nbformat": 4,
 "nbformat_minor": 2
}
