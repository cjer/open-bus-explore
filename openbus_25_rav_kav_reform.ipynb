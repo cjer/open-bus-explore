{
 "cells": [
  {
   "cell_type": "markdown",
   "metadata": {},
   "source": [
    "## Imports and config"
   ]
  },
  {
   "cell_type": "code",
   "execution_count": 1,
   "metadata": {
    "ExecuteTime": {
     "end_time": "2018-12-24T19:48:27.116165Z",
     "start_time": "2018-12-24T19:48:26.694326Z"
    }
   },
   "outputs": [],
   "source": [
    "# Put these at the top of every notebook, to get automatic reloading and inline plotting\n",
    "%reload_ext autoreload\n",
    "%autoreload 2\n",
    "%matplotlib inline"
   ]
  },
  {
   "cell_type": "code",
   "execution_count": 2,
   "metadata": {
    "ExecuteTime": {
     "end_time": "2018-12-24T19:48:28.272079Z",
     "start_time": "2018-12-24T19:48:27.116165Z"
    }
   },
   "outputs": [
    {
     "data": {
      "text/plain": [
       "RendererRegistry.enable('notebook')"
      ]
     },
     "execution_count": 2,
     "metadata": {},
     "output_type": "execute_result"
    }
   ],
   "source": [
    "import pandas as pd\n",
    "import partridge as ptg\n",
    "import matplotlib.pyplot as plt\n",
    "import altair as alt\n",
    "import datetime\n",
    "\n",
    "#from gtfs_utils import *\n",
    "\n",
    "alt.renderers.enable('notebook')\n",
    "#alt.data_transformers.enable('json')"
   ]
  },
  {
   "cell_type": "markdown",
   "metadata": {},
   "source": [
    "## ClusterToLine.zip --> cluster_to_line_df"
   ]
  },
  {
   "cell_type": "code",
   "execution_count": 3,
   "metadata": {
    "ExecuteTime": {
     "end_time": "2018-12-24T19:48:28.475231Z",
     "start_time": "2018-12-24T19:48:28.287701Z"
    }
   },
   "outputs": [],
   "source": [
    "ZONES = 'data/archive/2018-12-24/zones.zip'"
   ]
  },
  {
   "cell_type": "code",
   "execution_count": 4,
   "metadata": {
    "ExecuteTime": {
     "end_time": "2018-12-24T19:48:30.053122Z",
     "start_time": "2018-12-24T19:48:29.818590Z"
    }
   },
   "outputs": [],
   "source": [
    "import geopandas as gpd\n",
    "import fiona\n",
    "import zipfile\n",
    "fiona.drvsupport.supported_drivers['kml'] = 'rw' # enable KML support which is disabled by default"
   ]
  },
  {
   "cell_type": "code",
   "execution_count": 5,
   "metadata": {
    "ExecuteTime": {
     "end_time": "2018-12-24T19:48:30.599721Z",
     "start_time": "2018-12-24T19:48:30.349718Z"
    }
   },
   "outputs": [],
   "source": [
    "with zipfile.ZipFile(ZONES) as zf:\n",
    "    zf.extract('zones/zones/ChargingRavKav.kml', 'data/tmp_zones')\n",
    "    #r = gpd.read_file('data/tmp_zones/zones/zones/ChargingRavKav.kml')\n",
    "    \n",
    "    "
   ]
  },
  {
   "cell_type": "code",
   "execution_count": 6,
   "metadata": {
    "ExecuteTime": {
     "end_time": "2018-12-24T19:48:31.255752Z",
     "start_time": "2018-12-24T19:48:31.083921Z"
    }
   },
   "outputs": [],
   "source": [
    "import keyholemarkup_converter"
   ]
  },
  {
   "cell_type": "code",
   "execution_count": null,
   "metadata": {
    "ExecuteTime": {
     "start_time": "2018-12-24T19:48:31.573Z"
    }
   },
   "outputs": [],
   "source": [
    "a = keyholemarkup_converter.keyholemarkup2x('data/tmp_zones/zones/zones/ChargingRavKav.kml',output='gpd')"
   ]
  },
  {
   "cell_type": "code",
   "execution_count": 3,
   "metadata": {
    "ExecuteTime": {
     "end_time": "2018-12-24T20:08:02.447187Z",
     "start_time": "2018-12-24T20:08:02.415946Z"
    }
   },
   "outputs": [],
   "source": [
    "import fastkml as kml\n"
   ]
  },
  {
   "cell_type": "code",
   "execution_count": 4,
   "metadata": {
    "ExecuteTime": {
     "end_time": "2018-12-24T20:08:06.321275Z",
     "start_time": "2018-12-24T20:08:06.305654Z"
    }
   },
   "outputs": [],
   "source": [
    "k = kml.KML()"
   ]
  },
  {
   "cell_type": "code",
   "execution_count": 20,
   "metadata": {
    "ExecuteTime": {
     "end_time": "2018-12-24T20:17:37.565906Z",
     "start_time": "2018-12-24T20:17:37.519047Z"
    }
   },
   "outputs": [],
   "source": [
    "kml_file = 'data/tmp_zones/zones/zones/ChargingRavKav.kml'\n",
    "with open(kml_file, 'rt', encoding=\"utf-8\") as myfile:\n",
    "    doc=myfile.read()\n"
   ]
  },
  {
   "cell_type": "code",
   "execution_count": 23,
   "metadata": {
    "ExecuteTime": {
     "end_time": "2018-12-24T20:17:46.735667Z",
     "start_time": "2018-12-24T20:17:46.704833Z"
    }
   },
   "outputs": [
    {
     "data": {
      "text/plain": [
       "['__class__',\n",
       " '__delattr__',\n",
       " '__dict__',\n",
       " '__dir__',\n",
       " '__doc__',\n",
       " '__eq__',\n",
       " '__format__',\n",
       " '__ge__',\n",
       " '__getattribute__',\n",
       " '__gt__',\n",
       " '__hash__',\n",
       " '__init__',\n",
       " '__init_subclass__',\n",
       " '__le__',\n",
       " '__lt__',\n",
       " '__module__',\n",
       " '__ne__',\n",
       " '__new__',\n",
       " '__reduce__',\n",
       " '__reduce_ex__',\n",
       " '__repr__',\n",
       " '__setattr__',\n",
       " '__sizeof__',\n",
       " '__str__',\n",
       " '__subclasshook__',\n",
       " '__weakref__',\n",
       " '_features',\n",
       " 'append',\n",
       " 'etree_element',\n",
       " 'features',\n",
       " 'from_string',\n",
       " 'ns',\n",
       " 'to_string']"
      ]
     },
     "execution_count": 23,
     "metadata": {},
     "output_type": "execute_result"
    }
   ],
   "source": [
    "dir(k)"
   ]
  },
  {
   "cell_type": "code",
   "execution_count": 21,
   "metadata": {
    "ExecuteTime": {
     "end_time": "2018-12-24T20:17:38.284708Z",
     "start_time": "2018-12-24T20:17:38.128737Z"
    }
   },
   "outputs": [],
   "source": [
    "k.from_string(doc)"
   ]
  },
  {
   "cell_type": "code",
   "execution_count": 25,
   "metadata": {
    "ExecuteTime": {
     "end_time": "2018-12-24T20:18:14.541587Z",
     "start_time": "2018-12-24T20:18:14.525966Z"
    }
   },
   "outputs": [
    {
     "data": {
      "text/plain": [
       "'<kml xmlns=\"http://www.opengis.net/kml/2.2\"/>'"
      ]
     },
     "execution_count": 25,
     "metadata": {},
     "output_type": "execute_result"
    }
   ],
   "source": [
    "k.to_string()"
   ]
  },
  {
   "cell_type": "code",
   "execution_count": 26,
   "metadata": {
    "ExecuteTime": {
     "end_time": "2018-12-24T20:20:27.274801Z",
     "start_time": "2018-12-24T20:20:27.165436Z"
    }
   },
   "outputs": [],
   "source": [
    "import simplekml"
   ]
  },
  {
   "cell_type": "code",
   "execution_count": null,
   "metadata": {
    "ExecuteTime": {
     "end_time": "2018-12-24T20:22:22.957068Z",
     "start_time": "2018-12-24T20:22:22.925825Z"
    }
   },
   "outputs": [],
   "source": [
    "from pykml import parser\n",
    "\n",
    "with open(kml_file) as f:\n",
    "    doc = parser.parse(f)"
   ]
  },
  {
   "cell_type": "code",
   "execution_count": 70,
   "metadata": {
    "ExecuteTime": {
     "end_time": "2018-12-25T17:42:52.690791Z",
     "start_time": "2018-12-25T17:42:52.620949Z"
    }
   },
   "outputs": [],
   "source": [
    "import geopandas as gpd\n",
    "from shapely.geometry import LineString\n",
    "\n",
    "df = gpd.read_file('data/example_points.geojson')\n",
    "\n",
    "df2 = df.groupby('line').geometry.apply(lambda x: LineString(x.tolist()) if x.shape[0]>1 else x.iat[0])\n",
    "df2 = gpd.GeoDataFrame(df2.reset_index(), geometry='geometry')\n",
    "\n",
    "with open('data/example_linestring.geojson', 'w', encoding='utf-8') as f:\n",
    "    f.write(df2.to_json())"
   ]
  },
  {
   "cell_type": "code",
   "execution_count": 71,
   "metadata": {
    "ExecuteTime": {
     "end_time": "2018-12-25T17:42:52.909909Z",
     "start_time": "2018-12-25T17:42:52.880629Z"
    }
   },
   "outputs": [
    {
     "data": {
      "text/html": [
       "<div>\n",
       "<style scoped>\n",
       "    .dataframe tbody tr th:only-of-type {\n",
       "        vertical-align: middle;\n",
       "    }\n",
       "\n",
       "    .dataframe tbody tr th {\n",
       "        vertical-align: top;\n",
       "    }\n",
       "\n",
       "    .dataframe thead th {\n",
       "        text-align: right;\n",
       "    }\n",
       "</style>\n",
       "<table border=\"1\" class=\"dataframe\">\n",
       "  <thead>\n",
       "    <tr style=\"text-align: right;\">\n",
       "      <th></th>\n",
       "      <th>line</th>\n",
       "      <th>geometry</th>\n",
       "    </tr>\n",
       "  </thead>\n",
       "  <tbody>\n",
       "    <tr>\n",
       "      <th>0</th>\n",
       "      <td>a</td>\n",
       "      <td>LINESTRING (-121.415061 40.506229, -121.505184...</td>\n",
       "    </tr>\n",
       "    <tr>\n",
       "      <th>1</th>\n",
       "      <td>b</td>\n",
       "      <td>POINT (-121.354465 40.488737)</td>\n",
       "    </tr>\n",
       "  </tbody>\n",
       "</table>\n",
       "</div>"
      ],
      "text/plain": [
       "  line                                           geometry\n",
       "0    a  LINESTRING (-121.415061 40.506229, -121.505184...\n",
       "1    b                      POINT (-121.354465 40.488737)"
      ]
     },
     "execution_count": 71,
     "metadata": {},
     "output_type": "execute_result"
    }
   ],
   "source": [
    "df2"
   ]
  },
  {
   "cell_type": "code",
   "execution_count": null,
   "metadata": {},
   "outputs": [],
   "source": []
  },
  {
   "cell_type": "code",
   "execution_count": null,
   "metadata": {},
   "outputs": [],
   "source": []
  }
 ],
 "metadata": {
  "kernelspec": {
   "display_name": "Python 3",
   "language": "python",
   "name": "python3"
  },
  "language_info": {
   "codemirror_mode": {
    "name": "ipython",
    "version": 3
   },
   "file_extension": ".py",
   "mimetype": "text/x-python",
   "name": "python",
   "nbconvert_exporter": "python",
   "pygments_lexer": "ipython3",
   "version": "3.6.3"
  },
  "toc": {
   "base_numbering": 1,
   "nav_menu": {},
   "number_sections": true,
   "sideBar": true,
   "skip_h1_title": false,
   "title_cell": "Table of Contents",
   "title_sidebar": "Contents",
   "toc_cell": false,
   "toc_position": {},
   "toc_section_display": true,
   "toc_window_display": false
  }
 },
 "nbformat": 4,
 "nbformat_minor": 2
}
